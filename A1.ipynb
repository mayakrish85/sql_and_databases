{
 "cells": [
  {
   "cell_type": "markdown",
   "metadata": {
    "editable": false,
    "slideshow": {
     "slide_type": "slide"
    }
   },
   "source": [
    "## Assignment 1 Comp 421 Fall 2022\n",
    "\n",
    "<img src=\"https://comp421.cs.unc.edu/static/images/COMP421Logo.png\" \n",
    "     align=\"right\" style=\"display:inline; width:100px; \">\n",
    "\n",
    "\n",
    "Answer each question below by filling in code at the point indicated.\n",
    "Do not modify any cells that say <font color=\"red\">\"You cannot and should not update this cell\"!</font>\n",
    "\n",
    "You __<font color=\"red\">must</font>__ run the cells in order. It looks like you can come back later after restarting and pick up where you left off but that is not the case. When restarting you always have to start at the top of the notebook and run each cell in turn. \n",
    "\n",
    "The data supplied to you in this assignment will be graded with slightly different data.\n",
    "For example, if a question asks you to create a list of names from the \n",
    "database and your code simply sets the list to the answers without \n",
    "querying the database, your answer will not be accepted by the grader."
   ]
  },
  {
   "cell_type": "code",
   "execution_count": 1,
   "metadata": {
    "deletable": false,
    "editable": false,
    "execution": {},
    "slideshow": {
     "slide_type": "slide"
    }
   },
   "outputs": [
    {
     "data": {
      "application/javascript": [
       "IPython.notebook.set_autosave_interval(15000)"
      ]
     },
     "metadata": {},
     "output_type": "display_data"
    },
    {
     "name": "stdout",
     "output_type": "stream",
     "text": [
      "Autosaving every 15 seconds\n"
     ]
    }
   ],
   "source": [
    "# You cannot and should not update this cell\n",
    "%autosave 15\n",
    "import comp421\n",
    "check, report = comp421.start('A1')\n",
    "import sqlite3"
   ]
  },
  {
   "cell_type": "code",
   "execution_count": 2,
   "metadata": {
    "execution": {},
    "slideshow": {
     "slide_type": "slide"
    }
   },
   "outputs": [],
   "source": [
    "# fill in the information below\n",
    "Author = 'mkrishn'\n",
    "Collaborators = ['sarsimha']"
   ]
  },
  {
   "cell_type": "code",
   "execution_count": 3,
   "metadata": {
    "deletable": false,
    "editable": false,
    "execution": {},
    "slideshow": {
     "slide_type": "slide"
    }
   },
   "outputs": [
    {
     "name": "stdout",
     "output_type": "stream",
     "text": [
      "Author appears correct\n",
      "Collaborators appears correct\n"
     ]
    }
   ],
   "source": [
    "# You cannot and should not update this cell\n",
    "check('Author', Author != 'youronyen', points=2, sort=True)\n",
    "check('Collaborators', Collaborators != ['list', 'their', 'onyens', 'here'], points=2, sort=True)"
   ]
  },
  {
   "cell_type": "markdown",
   "metadata": {
    "editable": false,
    "slideshow": {
     "slide_type": "slide"
    }
   },
   "source": [
    "The cell above opened the database and printed out its contents.\n",
    "The printout is only for you to look at the data.\n",
    "The grader will use the same database schema but with different data.\n",
    "\n",
    "For this assignment you have relations with these schemas\n",
    "\n",
    " ```sql\n",
    " create table Department (\n",
    "     did integer primary key, \n",
    "     name text)\n",
    "\n",
    " create table Course (\n",
    "     cid integer primary key,\n",
    "     did integer,\n",
    "     name text,\n",
    "     num integer,\n",
    "     creditHours integer,\n",
    "     foreign key (did) references Department)\n",
    "     \n",
    " create table Student (\n",
    "     sid integer primary key,\n",
    "     did integer,\n",
    "     fname text,\n",
    "     lname text,\n",
    "     foreign key (did) references Department)\n",
    "\n",
    " create table Enrolled_in (\n",
    "     eid integer primary key,\n",
    "     sid integer,\n",
    "     cid integer,\n",
    "     foreign key (sid) references Student,\n",
    "     foreign key (cid) references Course)\n",
    "       \n",
    " ```\n"
   ]
  },
  {
   "cell_type": "code",
   "execution_count": 4,
   "metadata": {
    "editable": false,
    "execution": {},
    "slideshow": {
     "slide_type": "slide"
    }
   },
   "outputs": [
    {
     "name": "stdout",
     "output_type": "stream",
     "text": [
      "Department\n",
      "\n",
      "(1, 'COMP')\n",
      "(2, 'MATH')\n",
      "(3, 'ANTH')\n",
      "Course\n",
      "\n",
      "(1, 1, 'Data Structures', 410, 3)\n",
      "(2, 1, 'Computer Organization', 411, 3)\n",
      "(3, 1, 'Files and Databases', 521, 3)\n",
      "(4, 1, 'Software Engineering', 523, 4)\n",
      "(5, 2, 'Discrete Mathematics', 381, 3)\n",
      "(6, 2, 'First Course in Differential Equations', 383, 3)\n",
      "(7, 2, 'Advanced Calculus I', 521, 3)\n",
      "(8, 3, 'The Past in the Present', 452, 3)\n",
      "(9, 3, 'Anthropology of the Body and the Subject', 473, 4)\n",
      "(10, 3, 'Visual Anthropology', 477, 3)\n",
      "Student\n",
      "\n",
      "(1, 1, 'MARY', 'Smith')\n",
      "(2, 1, 'PATRICIA', 'Johnson')\n",
      "(3, 1, 'JAMES', 'Williams')\n",
      "(4, 1, 'ROBERT', 'Jones')\n",
      "(5, 2, 'MICHAEL', 'Brown')\n",
      "(6, 2, 'WILLIAM', 'Davis')\n",
      "(7, 2, 'LINDA', 'Miller')\n",
      "(8, 3, 'BARBARA', 'Wilson')\n",
      "(9, 3, 'DAVID', 'Moore')\n",
      "(10, 3, 'RICHARD', 'Taylor')\n",
      "(11, 3, 'MICHAEL', 'Jordan')\n",
      "Enrolled_in\n",
      "\n",
      "(1, 1, 1)\n",
      "(2, 1, 3)\n",
      "(3, 1, 9)\n",
      "(4, 1, 4)\n",
      "(5, 2, 1)\n",
      "(6, 2, 2)\n",
      "(7, 2, 3)\n",
      "(8, 2, 4)\n",
      "(9, 3, 1)\n",
      "(10, 3, 3)\n",
      "(11, 3, 4)\n",
      "(12, 3, 9)\n",
      "(13, 4, 2)\n",
      "(14, 4, 3)\n",
      "(15, 4, 5)\n",
      "(16, 4, 10)\n",
      "(17, 5, 5)\n",
      "(18, 5, 3)\n",
      "(19, 5, 7)\n",
      "(20, 6, 5)\n",
      "(21, 6, 6)\n",
      "(22, 6, 7)\n",
      "(23, 7, 3)\n",
      "(24, 7, 6)\n",
      "(25, 7, 9)\n",
      "(26, 8, 8)\n",
      "(27, 8, 9)\n",
      "(28, 8, 10)\n",
      "(29, 9, 3)\n",
      "(30, 9, 9)\n",
      "(31, 9, 10)\n",
      "(32, 10, 8)\n",
      "(33, 10, 9)\n",
      "(34, 10, 10)\n"
     ]
    }
   ],
   "source": [
    "# You cannot and should not update this cell\n",
    "db = sqlite3.connect('CourseEnrollment.sqlite')\n",
    "cursor = db.cursor()\n",
    "\n",
    "cursor.execute('Select * from Department')\n",
    "print('Department\\n', *cursor.fetchall(), sep='\\n')\n",
    "cursor.execute('Select * from Course')\n",
    "print('Course\\n', *cursor.fetchall(), sep='\\n')\n",
    "cursor.execute('Select * from Student')\n",
    "print('Student\\n', *cursor.fetchall(), sep='\\n')\n",
    "cursor.execute('Select * from Enrolled_in')\n",
    "print('Enrolled_in\\n', *cursor.fetchall(), sep='\\n')"
   ]
  },
  {
   "cell_type": "markdown",
   "metadata": {
    "editable": false,
    "slideshow": {
     "slide_type": "slide"
    }
   },
   "source": [
    "For the next three questions write a SQL query that produces a result that is equivalent to the Relational Algebra expression. I will execute the SQL query for you.\n",
    "\n",
    "## Question 1\n",
    "\n",
    "Translate this Relational Algebra expression into SQL: $\\pi_{name} \\sigma_{num < 500} Course$"
   ]
  },
  {
   "cell_type": "code",
   "execution_count": 5,
   "metadata": {
    "execution": {},
    "slideshow": {
     "slide_type": "slide"
    }
   },
   "outputs": [
    {
     "name": "stdout",
     "output_type": "stream",
     "text": [
      "[('Data Structures',), ('Computer Organization',), ('Discrete Mathematics',), ('First Course in Differential Equations',), ('The Past in the Present',), ('Anthropology of the Body and the Subject',), ('Visual Anthropology',)]\n"
     ]
    }
   ],
   "source": [
    "# write your SQL expression here\n",
    "sql1 = '''\n",
    " SELECT Course.name\n",
    " FROM Course\n",
    " WHERE Course.num < 500\n",
    "'''\n",
    "\n",
    "\n",
    "# checking code. Do NOT change this.\n",
    "cursor.execute(sql1)\n",
    "c1 = cursor.fetchall()\n",
    "print(c1)"
   ]
  },
  {
   "cell_type": "code",
   "execution_count": 6,
   "metadata": {
    "deletable": false,
    "editable": false,
    "execution": {},
    "slideshow": {
     "slide_type": "slide"
    }
   },
   "outputs": [
    {
     "name": "stdout",
     "output_type": "stream",
     "text": [
      "Q1 appears correct\n"
     ]
    }
   ],
   "source": [
    "# You cannot and should not update this cell\n",
    "cursor = db.cursor()\n",
    "cursor.execute(sql1)\n",
    "c1 = cursor.fetchall()\n",
    "check('Q1', c1, points=12, sort=True)"
   ]
  },
  {
   "cell_type": "markdown",
   "metadata": {
    "editable": false,
    "slideshow": {
     "slide_type": "slide"
    }
   },
   "source": [
    "## Question 2\n",
    "\n",
    "Set Python `sql2` to the SQL query that reflects the following:\n",
    "\n",
    "$\\pi_{fname,lname}\\sigma_{name='Files\\ and\\ Databases'}(Student\\bowtie Enrolled\\_in \\bowtie Course)$\n"
   ]
  },
  {
   "cell_type": "code",
   "execution_count": 7,
   "metadata": {
    "execution": {},
    "slideshow": {
     "slide_type": "slide"
    }
   },
   "outputs": [
    {
     "name": "stdout",
     "output_type": "stream",
     "text": [
      "[('MARY', 'Smith'), ('PATRICIA', 'Johnson'), ('JAMES', 'Williams'), ('ROBERT', 'Jones'), ('MICHAEL', 'Brown'), ('LINDA', 'Miller'), ('DAVID', 'Moore')]\n"
     ]
    }
   ],
   "source": [
    "# Assign your result to c2\n",
    "sql2 = '''\n",
    " SELECT Student.fname, Student.lname\n",
    " FROM Student, Enrolled_in, Course\n",
    " WHERE Student.sid = Enrolled_in.sid AND Enrolled_in.cid = Course.cid AND Course.name = \"Files and Databases\"\n",
    "'''\n",
    "\n",
    "# checking\n",
    "cursor.execute(sql2)\n",
    "c2 = cursor.fetchall()\n",
    "print(c2)"
   ]
  },
  {
   "cell_type": "code",
   "execution_count": 8,
   "metadata": {
    "deletable": false,
    "editable": false,
    "execution": {},
    "slideshow": {
     "slide_type": "slide"
    }
   },
   "outputs": [
    {
     "name": "stdout",
     "output_type": "stream",
     "text": [
      "Q2 appears correct\n"
     ]
    }
   ],
   "source": [
    "# You cannot and should not update this cell\n",
    "cursor = db.cursor()\n",
    "cursor.execute(sql2)\n",
    "c2 = cursor.fetchall()\n",
    "check('Q2', c2, points=12, sort=True)"
   ]
  },
  {
   "cell_type": "markdown",
   "metadata": {
    "editable": false,
    "slideshow": {
     "slide_type": "slide"
    }
   },
   "source": [
    "## Question 3\n",
    "\n",
    "Set Python variable `sql3` to the SQL query that reflects the following:\n",
    "\n",
    "$ \\pi_{fname,lname} \\sigma_{name='ANTH'} (Student \\bowtie Department) $"
   ]
  },
  {
   "cell_type": "code",
   "execution_count": 9,
   "metadata": {
    "execution": {},
    "slideshow": {
     "slide_type": "slide"
    }
   },
   "outputs": [
    {
     "name": "stdout",
     "output_type": "stream",
     "text": [
      "[('BARBARA', 'Wilson'), ('DAVID', 'Moore'), ('RICHARD', 'Taylor'), ('MICHAEL', 'Jordan')]\n"
     ]
    }
   ],
   "source": [
    "# assign to c3\n",
    "sql3 = '''\n",
    " SELECT Student.fname, Student.lname\n",
    " FROM Student, Department\n",
    " WHERE Student.did = Department.did AND Department.name = 'ANTH'\n",
    "'''\n",
    "\n",
    "# checking\n",
    "cursor.execute(sql3)\n",
    "c3 = cursor.fetchall()\n",
    "print(c3)"
   ]
  },
  {
   "cell_type": "code",
   "execution_count": 10,
   "metadata": {
    "deletable": false,
    "editable": false,
    "execution": {},
    "slideshow": {
     "slide_type": "slide"
    }
   },
   "outputs": [
    {
     "name": "stdout",
     "output_type": "stream",
     "text": [
      "Q3 appears correct\n"
     ]
    }
   ],
   "source": [
    "# You cannot and should not update this cell\n",
    "cursor = db.cursor()\n",
    "cursor.execute(sql3)\n",
    "c3 = cursor.fetchall()\n",
    "check('Q3', c3, points=12, sort=True)"
   ]
  },
  {
   "cell_type": "markdown",
   "metadata": {
    "editable": false,
    "slideshow": {
     "slide_type": "slide"
    }
   },
   "source": [
    "## Question 4\n",
    "\n",
    "Set the Python variable `sql4` to the SQL query that represents the follwoing:\n",
    "\n",
    "$ \\pi_{name} \\sigma_{creditHours=3} Course $"
   ]
  },
  {
   "cell_type": "code",
   "execution_count": 11,
   "metadata": {
    "execution": {},
    "slideshow": {
     "slide_type": "slide"
    }
   },
   "outputs": [
    {
     "name": "stdout",
     "output_type": "stream",
     "text": [
      "[('Data Structures',), ('Computer Organization',), ('Files and Databases',), ('Discrete Mathematics',), ('First Course in Differential Equations',), ('Advanced Calculus I',), ('The Past in the Present',), ('Visual Anthropology',)]\n"
     ]
    }
   ],
   "source": [
    "# assign to sql4\n",
    "sql4 = '''\n",
    " SELECT Course.name\n",
    " FROM Course\n",
    " WHERE Course.creditHours = 3\n",
    "'''\n",
    "\n",
    "# checking\n",
    "cursor.execute(sql4)\n",
    "c4 = cursor.fetchall()\n",
    "print(c4)"
   ]
  },
  {
   "cell_type": "code",
   "execution_count": 12,
   "metadata": {
    "deletable": false,
    "editable": false,
    "execution": {},
    "slideshow": {
     "slide_type": "slide"
    }
   },
   "outputs": [
    {
     "name": "stdout",
     "output_type": "stream",
     "text": [
      "Q4 appears correct\n"
     ]
    }
   ],
   "source": [
    "# You cannot and should not update this cell\n",
    "cursor = db.cursor()\n",
    "cursor.execute(sql4)\n",
    "c4 = cursor.fetchall()\n",
    "check('Q4', c4, points=12, sort=True)"
   ]
  },
  {
   "cell_type": "markdown",
   "metadata": {
    "editable": false,
    "slideshow": {
     "slide_type": "slide"
    }
   },
   "source": [
    "For these next questions, write a SQL query to fetch the requested information. \n",
    "From here on, I want you\n",
    "to write the Python code as well as the query. The questions above provide an example of what you must type.\n",
    "\n",
    "## Question 5\n",
    "\n",
    "Set Python variale `c5` to a list of tuples of names of all 4 credit hour courses."
   ]
  },
  {
   "cell_type": "code",
   "execution_count": 13,
   "metadata": {
    "execution": {},
    "slideshow": {
     "slide_type": "slide"
    }
   },
   "outputs": [
    {
     "name": "stdout",
     "output_type": "stream",
     "text": [
      "[('Software Engineering',), ('Anthropology of the Body and the Subject',)]\n"
     ]
    }
   ],
   "source": [
    "# your code here\n",
    "sql5 = '''\n",
    " SELECT Course.name\n",
    " FROM Course\n",
    " WHERE Course.creditHours = 4\n",
    "'''\n",
    "cursor.execute(sql5)\n",
    "c5 = cursor.fetchall() # the result of fetch all goes in this variable\n",
    "\n",
    "print(c5)"
   ]
  },
  {
   "cell_type": "code",
   "execution_count": 14,
   "metadata": {
    "deletable": false,
    "editable": false,
    "execution": {},
    "slideshow": {
     "slide_type": "slide"
    }
   },
   "outputs": [
    {
     "name": "stdout",
     "output_type": "stream",
     "text": [
      "Q5 appears correct\n"
     ]
    }
   ],
   "source": [
    "# You cannot and should not update this cell\n",
    "check('Q5', c5, points=12, sort=True)"
   ]
  },
  {
   "cell_type": "markdown",
   "metadata": {
    "editable": false,
    "slideshow": {
     "slide_type": "slide"
    }
   },
   "source": [
    "## Question 6\n",
    "\n",
    "Set Python variable `c6` to the list of tuples of first and last names of all students enrolled in COMP courses."
   ]
  },
  {
   "cell_type": "code",
   "execution_count": 15,
   "metadata": {
    "execution": {},
    "slideshow": {
     "slide_type": "slide"
    }
   },
   "outputs": [
    {
     "name": "stdout",
     "output_type": "stream",
     "text": [
      "[('MARY', 'Smith'), ('PATRICIA', 'Johnson'), ('JAMES', 'Williams'), ('ROBERT', 'Jones'), ('MICHAEL', 'Brown'), ('LINDA', 'Miller'), ('DAVID', 'Moore')]\n"
     ]
    }
   ],
   "source": [
    "# your code here - HELP\n",
    "sql6 = '''\n",
    " SELECT DISTINCT Student.fname, Student.lname\n",
    " FROM Student, Department, Enrolled_in, Course\n",
    " WHERE Student.sid = Enrolled_in.sid AND Enrolled_in.cid = Course.cid AND Course.did = Department.did AND Department.name = \"COMP\"\n",
    "'''\n",
    "\n",
    "cursor.execute(sql6)\n",
    "c6 = cursor.fetchall() # the result of fetch all goes in this variable\n",
    "\n",
    "print(c6)"
   ]
  },
  {
   "cell_type": "code",
   "execution_count": 16,
   "metadata": {
    "deletable": false,
    "editable": false,
    "execution": {},
    "slideshow": {
     "slide_type": "slide"
    }
   },
   "outputs": [
    {
     "name": "stdout",
     "output_type": "stream",
     "text": [
      "Q6 appears correct\n"
     ]
    }
   ],
   "source": [
    "# You cannot and should not update this cell\n",
    "check('Q6', c6, points=12, sort=True)"
   ]
  },
  {
   "cell_type": "markdown",
   "metadata": {
    "editable": false,
    "slideshow": {
     "slide_type": "slide"
    }
   },
   "source": [
    "## Question 7\n",
    "\n",
    "Set Python variable `c7` to the list of tuples of first and last names of all students enrolled in courses of at least 500 level."
   ]
  },
  {
   "cell_type": "code",
   "execution_count": 17,
   "metadata": {
    "execution": {},
    "slideshow": {
     "slide_type": "slide"
    }
   },
   "outputs": [
    {
     "name": "stdout",
     "output_type": "stream",
     "text": [
      "[('MARY', 'Smith'), ('PATRICIA', 'Johnson'), ('JAMES', 'Williams'), ('ROBERT', 'Jones'), ('MICHAEL', 'Brown'), ('WILLIAM', 'Davis'), ('LINDA', 'Miller'), ('DAVID', 'Moore')]\n"
     ]
    }
   ],
   "source": [
    "# your code here - HELP\n",
    "sql7 = '''\n",
    " SELECT DISTINCT Student.fname, Student.lname\n",
    " FROM Student, Course, Enrolled_in\n",
    " WHERE Course.cid = Enrolled_in.cid AND Course.num > 500 AND Enrolled_in.sid = Student.sid\n",
    "'''\n",
    "\n",
    "cursor.execute(sql7)\n",
    "c7 = cursor.fetchall() # the result of fetch all goes in this variable\n",
    "print(c7)"
   ]
  },
  {
   "cell_type": "code",
   "execution_count": 18,
   "metadata": {
    "deletable": false,
    "editable": false,
    "execution": {},
    "slideshow": {
     "slide_type": "slide"
    }
   },
   "outputs": [
    {
     "name": "stdout",
     "output_type": "stream",
     "text": [
      "Q7 appears correct\n"
     ]
    }
   ],
   "source": [
    "# You cannot and should not update this cell\n",
    "check('Q7', c7, points=12, sort=True)"
   ]
  },
  {
   "cell_type": "markdown",
   "metadata": {
    "editable": false,
    "slideshow": {
     "slide_type": "slide"
    }
   },
   "source": [
    "## Question 8\n",
    "\n",
    "Set Python variable `c8` to the list of tuples of first and last names of all students enrolled in 'Data Structures' and \"Anthropology of the Body and the Subject'."
   ]
  },
  {
   "cell_type": "code",
   "execution_count": 19,
   "metadata": {
    "execution": {},
    "slideshow": {
     "slide_type": "slide"
    }
   },
   "outputs": [
    {
     "name": "stdout",
     "output_type": "stream",
     "text": [
      "[('JAMES', 'Williams'), ('MARY', 'Smith')]\n"
     ]
    }
   ],
   "source": [
    "# your code here - HELP\n",
    "# expect to see mary smith and james williams\n",
    "sql8 = '''\n",
    " SELECT Student.fname, Student.lname\n",
    " FROM Student, Course, Enrolled_in\n",
    " WHERE Student.sid = Enrolled_in.sid AND Enrolled_in.cid = Course.cid AND Course.name = 'Data Structures'\n",
    " \n",
    " INTERSECT\n",
    " \n",
    " SELECT Student.fname, Student.lname\n",
    " FROM Student, Course, Enrolled_in\n",
    " WHERE Student.sid = Enrolled_in.sid AND Enrolled_in.cid = Course.cid AND Course.name = 'Anthropology of the Body and the Subject'\n",
    " '''\n",
    "\n",
    "cursor.execute(sql8)\n",
    "c8 = cursor.fetchall() # the result of fetch all goes in this variable\n",
    "print(c8)"
   ]
  },
  {
   "cell_type": "code",
   "execution_count": 20,
   "metadata": {
    "deletable": false,
    "editable": false,
    "execution": {},
    "slideshow": {
     "slide_type": "slide"
    }
   },
   "outputs": [
    {
     "name": "stdout",
     "output_type": "stream",
     "text": [
      "Q8 appears correct\n"
     ]
    }
   ],
   "source": [
    "# You cannot and should not update this cell\n",
    "check('Q8', c8, points=12, sort=True)"
   ]
  },
  {
   "cell_type": "markdown",
   "metadata": {
    "editable": false,
    "slideshow": {
     "slide_type": "slide"
    }
   },
   "source": [
    "## Done!\n",
    "\n",
    "Now get your report and submit your assignment."
   ]
  },
  {
   "cell_type": "code",
   "execution_count": 21,
   "metadata": {
    "deletable": false,
    "editable": false,
    "execution": {},
    "slideshow": {
     "slide_type": "slide"
    }
   },
   "outputs": [
    {
     "name": "stdout",
     "output_type": "stream",
     "text": [
      "  Collaborators: ['sarsimha']\n",
      "Report for mkrishn\n",
      "  10 of 10 appear correct, 100 of 100 points\n"
     ]
    }
   ],
   "source": [
    "# You cannot and should not update this cell\n",
    "# This cell will produce a summary report of your assignment\n",
    "assert Author != 'youronyen'\n",
    "assert Collaborators != ['list', 'their', 'onyens', 'here']\n",
    "report(Author, Collaborators)"
   ]
  },
  {
   "cell_type": "markdown",
   "metadata": {
    "editable": false,
    "slideshow": {
     "slide_type": "slide"
    }
   },
   "source": [
    "## Done!\n",
    "<img src=\"https://comp421.cs.unc.edu/static/images/restartAndClearOutput.png\" width=\"300\" style=\"float: right\" />\n",
    "\n",
    "Now go back, restart the kernel (menu <font color=\"green\">Kernel</font>-><font color=\"green\">Restart and Clear</font>), and then Shift-Enter your way through the notebook to run all the cells again so you an be sure all your code will work as you expect during grading."
   ]
  },
  {
   "cell_type": "markdown",
   "metadata": {
    "editable": false,
    "slideshow": {
     "slide_type": "slide"
    }
   },
   "source": [
    "## Saving your work\n",
    "<img src=\"https://comp421.cs.unc.edu/static/images/saveAndCheckpoint.png\" width=\"300\" style=\"float: right\" />\n",
    "\n",
    "Now save your work by going to (menu <font color='green'>File</font>-><font color='green'>Save and Checkpoint</font>)"
   ]
  },
  {
   "cell_type": "markdown",
   "metadata": {
    "editable": false,
    "slideshow": {
     "slide_type": "slide"
    }
   },
   "source": [
    "## Submit your notebook\n",
    "\n",
    "After saving, restarting the kernel, and verifying your report,\n",
    "you would submit your notebook.\n",
    "\n",
    "\n",
    "Note that if you actually saved your work you should not see the leaving site message below.\n",
    "If you do see the `Leave Site` warning, cancel and save your work again.\n",
    "<br />\n",
    "<img src=\"https://comp421.cs.unc.edu/static/images/leaveSite.png\" width=\"300\"/>\n",
    "\n",
    "\n",
    "\n",
    "\n",
    "To submit your notebook, go to https://comp421.cs.unc.edu/notebook \n",
    "If you may have accidentally downloaded the assignment zip file multiple times,\n",
    "ensure you submit the file from the directory where your solution is!\n",
    "You <font color='red'>must</font> ensure that you select the correct file.\n",
    "\n",
    "<img src=\"https://comp421.cs.unc.edu/static/images/SubmitNotebook.png\" width=\"300\" style=\"float: left\" />\n",
    "\n"
   ]
  }
 ],
 "metadata": {
  "kernelspec": {
   "display_name": "Python 3 (ipykernel)",
   "language": "python",
   "name": "python3"
  },
  "language_info": {
   "codemirror_mode": {
    "name": "ipython",
    "version": 3
   },
   "file_extension": ".py",
   "mimetype": "text/x-python",
   "name": "python",
   "nbconvert_exporter": "python",
   "pygments_lexer": "ipython3",
   "version": "3.9.13"
  },
  "rise": {
   "enable_chalkboard": true,
   "scroll": true,
   "theme": "comp116"
  },
  "toc": {
   "base_numbering": 1,
   "nav_menu": {},
   "number_sections": true,
   "sideBar": true,
   "skip_h1_title": false,
   "title_cell": "Table of Contents",
   "title_sidebar": "Contents",
   "toc_cell": false,
   "toc_position": {},
   "toc_section_display": true,
   "toc_window_display": false
  }
 },
 "nbformat": 4,
 "nbformat_minor": 1
}
