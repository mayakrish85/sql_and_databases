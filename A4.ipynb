{
 "cells": [
  {
   "cell_type": "markdown",
   "metadata": {
    "editable": false,
    "slideshow": {
     "slide_type": "slide"
    }
   },
   "source": [
    "# Assignment 4\n",
    "\n",
    "<img src=\"https://comp421.cs.unc.edu/static/images/COMP421Logo.png\" \n",
    "     align=\"right\" style=\"display:inline; width:100px; \">\n",
    "\n",
    "This homework will require a lot of math calculations.\n",
    "Therefore, I've imported the python module `math` for you.\n",
    "In some of your calculations, you may want to use functions like `math.ceil`, `math.log`, or `math.floor`.\n",
    "They are already imported for you in the first cell as `ceil`, `log`, and `floor` respectively.\n",
    "\n",
    "\n",
    "It is assumed you know how to do Python integer division, float division, etc.\n",
    "\n",
    "Note also that there is an import of A4vars.\n",
    "This file of constants for things like Cblock will be different in the grader than in your homework copy.\n",
    "So when a calculation says assume Cblock is $\\dots$, you should never use the value 8192 but instead use the variable Cblock.\n",
    "\n",
    "**Please, Please, Please** read the instructions at the end of the assignment!\n",
    "You should kernel-restart and run all cells before you submit your work.\n"
   ]
  },
  {
   "cell_type": "code",
   "execution_count": 1,
   "metadata": {
    "execution": {
     "iopub.execute_input": "2023-04-14T12:53:59.974469Z",
     "iopub.status.busy": "2023-04-14T12:53:59.973670Z",
     "iopub.status.idle": "2023-04-14T12:54:00.009729Z",
     "shell.execute_reply": "2023-04-14T12:54:00.008665Z"
    },
    "slideshow": {
     "slide_type": "slide"
    }
   },
   "outputs": [
    {
     "data": {
      "application/javascript": [
       "IPython.notebook.set_autosave_interval(15000)"
      ]
     },
     "metadata": {},
     "output_type": "display_data"
    },
    {
     "name": "stdout",
     "output_type": "stream",
     "text": [
      "Autosaving every 15 seconds\n"
     ]
    }
   ],
   "source": [
    "%autosave 15\n",
    "\n",
    "# setup\n",
    "import sqlite3\n",
    "import comp421\n",
    "import json\n",
    "from math import ceil, floor, log\n",
    "\n",
    "check, report = comp421.start('A4')\n",
    "\n",
    "# these are the variables you will use below. You must use the variables because\n",
    "# they will have different values when I grade your assignment.\n",
    "from A4vars import *"
   ]
  },
  {
   "cell_type": "code",
   "execution_count": 2,
   "metadata": {
    "execution": {
     "iopub.execute_input": "2023-04-14T12:54:00.075847Z",
     "iopub.status.busy": "2023-04-14T12:54:00.074798Z",
     "iopub.status.idle": "2023-04-14T12:54:00.081707Z",
     "shell.execute_reply": "2023-04-14T12:54:00.080641Z"
    },
    "slideshow": {
     "slide_type": "slide"
    }
   },
   "outputs": [],
   "source": [
    "# fill in your info here\n",
    "Author = \"mkrishn\"\n",
    "Collaborators = []"
   ]
  },
  {
   "cell_type": "code",
   "execution_count": 3,
   "metadata": {
    "editable": false,
    "execution": {
     "iopub.execute_input": "2023-04-14T12:54:00.086465Z",
     "iopub.status.busy": "2023-04-14T12:54:00.085781Z",
     "iopub.status.idle": "2023-04-14T12:54:00.094711Z",
     "shell.execute_reply": "2023-04-14T12:54:00.093691Z"
    },
    "slideshow": {
     "slide_type": "slide"
    }
   },
   "outputs": [
    {
     "name": "stdout",
     "output_type": "stream",
     "text": [
      "Author appears correct\n",
      "Collaborators appears correct\n"
     ]
    }
   ],
   "source": [
    "# You cannot and should not update this cell\n",
    "check('Author', Author != 'youronyen', points=1, sort=True)\n",
    "check('Collaborators', Collaborators != ['list', 'their', 'onyens', 'here'], points=1, sort=True)"
   ]
  },
  {
   "cell_type": "markdown",
   "metadata": {
    "editable": false,
    "slideshow": {
     "slide_type": "slide"
    }
   },
   "source": [
    "## Part 1\n",
    "\n",
    "Suppose you have a roster from a census return with $N$ entries in alphabetical order by first name. Each page has $P$ entries where $P < N$.\n",
    "\n",
    "__1.__ What is the lower bound $B_l$ and the upper bound $B_u$ on the number of pages that must be examined to find a given first name using a binary search? Assume that having computed a page number, you can open directly to that page."
   ]
  },
  {
   "cell_type": "code",
   "execution_count": 4,
   "metadata": {
    "execution": {
     "iopub.execute_input": "2023-04-14T12:54:00.099246Z",
     "iopub.status.busy": "2023-04-14T12:54:00.098944Z",
     "iopub.status.idle": "2023-04-14T12:54:00.107030Z",
     "shell.execute_reply": "2023-04-14T12:54:00.105969Z"
    },
    "slideshow": {
     "slide_type": "slide"
    }
   },
   "outputs": [
    {
     "name": "stdout",
     "output_type": "stream",
     "text": [
      "The lower bound is 1\n",
      "The upper bound is 10\n"
     ]
    }
   ],
   "source": [
    "# using variables N and P compute your answers and leave them in variables\n",
    "# Bl and Bu\n",
    "Bl = 1\n",
    "Bu = ceil(log(N/P,2))\n",
    "\n",
    "print(f'The lower bound is {Bl}')\n",
    "print(f'The upper bound is {Bu}')"
   ]
  },
  {
   "cell_type": "code",
   "execution_count": 5,
   "metadata": {
    "editable": false,
    "execution": {
     "iopub.execute_input": "2023-04-14T12:54:00.111333Z",
     "iopub.status.busy": "2023-04-14T12:54:00.111020Z",
     "iopub.status.idle": "2023-04-14T12:54:00.118174Z",
     "shell.execute_reply": "2023-04-14T12:54:00.117178Z"
    },
    "slideshow": {
     "slide_type": "slide"
    }
   },
   "outputs": [
    {
     "name": "stdout",
     "output_type": "stream",
     "text": [
      "Bl appears correct\n",
      "Bu appears correct\n"
     ]
    }
   ],
   "source": [
    "# You cannot and should not update the following lines\n",
    "check('Bl', Bl, points=2.5)\n",
    "check('Bu', Bu, points=4)"
   ]
  },
  {
   "cell_type": "markdown",
   "metadata": {
    "editable": false,
    "slideshow": {
     "slide_type": "slide"
    }
   },
   "source": [
    "__2.__ Now suppose a 1-page table of contents is added to the roster. It lists the first \"first name\" on each of the other pages (Assume no first name has more than 1 page of entries). How many pages that must be examined to look up a given first name?"
   ]
  },
  {
   "cell_type": "code",
   "execution_count": 6,
   "metadata": {
    "execution": {
     "iopub.execute_input": "2023-04-14T12:54:00.122955Z",
     "iopub.status.busy": "2023-04-14T12:54:00.122260Z",
     "iopub.status.idle": "2023-04-14T12:54:00.129178Z",
     "shell.execute_reply": "2023-04-14T12:54:00.128183Z"
    },
    "slideshow": {
     "slide_type": "slide"
    }
   },
   "outputs": [
    {
     "name": "stdout",
     "output_type": "stream",
     "text": [
      "To look up a name using a table of content that lists the first name on each page, it will take 2 page reads find a given name.\n"
     ]
    }
   ],
   "source": [
    "# leave your answer in variable A2.\n",
    "A2 = 2\n",
    "\n",
    "print('To look up a name using a table of content that lists',\n",
    "      f'the first name on each page, it will take {A2} page reads',\n",
    "     'find a given name.')"
   ]
  },
  {
   "cell_type": "code",
   "execution_count": 7,
   "metadata": {
    "editable": false,
    "execution": {
     "iopub.execute_input": "2023-04-14T12:54:00.133533Z",
     "iopub.status.busy": "2023-04-14T12:54:00.133227Z",
     "iopub.status.idle": "2023-04-14T12:54:00.139297Z",
     "shell.execute_reply": "2023-04-14T12:54:00.138243Z"
    },
    "slideshow": {
     "slide_type": "slide"
    }
   },
   "outputs": [
    {
     "name": "stdout",
     "output_type": "stream",
     "text": [
      "A2 appears correct\n"
     ]
    }
   ],
   "source": [
    "# You cannot and should not update the following line\n",
    "check('A2', A2, points=5)"
   ]
  },
  {
   "cell_type": "markdown",
   "metadata": {
    "editable": false,
    "slideshow": {
     "slide_type": "slide"
    }
   },
   "source": [
    "__3.__ Now suppose that the roster is reorganized such that each page contains a list of names with the same initials. For example, 'Thomas Jam Andrew' falls on the same\n",
    "page as 'Travis Jam Anand' (both have initials 'TJA'). Assume that no pattern takes\n",
    "more than one page, and there are a total of $M$ pages. Finally, assume that given the pattern you can go directly to the page. How many pages must be checked to find a particular name?"
   ]
  },
  {
   "cell_type": "code",
   "execution_count": 8,
   "metadata": {
    "execution": {
     "iopub.execute_input": "2023-04-14T12:54:00.143876Z",
     "iopub.status.busy": "2023-04-14T12:54:00.143220Z",
     "iopub.status.idle": "2023-04-14T12:54:00.149084Z",
     "shell.execute_reply": "2023-04-14T12:54:00.148113Z"
    },
    "slideshow": {
     "slide_type": "slide"
    }
   },
   "outputs": [
    {
     "name": "stdout",
     "output_type": "stream",
     "text": [
      "1 page(s) must be checked to find a particular name\n"
     ]
    }
   ],
   "source": [
    "# compute your answer into A4\n",
    "A3 = 1\n",
    "print(f'{A3} page(s) must be checked to find a particular name')"
   ]
  },
  {
   "cell_type": "code",
   "execution_count": 9,
   "metadata": {
    "editable": false,
    "execution": {
     "iopub.execute_input": "2023-04-14T12:54:00.153633Z",
     "iopub.status.busy": "2023-04-14T12:54:00.153317Z",
     "iopub.status.idle": "2023-04-14T12:54:00.159572Z",
     "shell.execute_reply": "2023-04-14T12:54:00.158560Z"
    },
    "slideshow": {
     "slide_type": "slide"
    }
   },
   "outputs": [
    {
     "name": "stdout",
     "output_type": "stream",
     "text": [
      "A3 appears correct\n"
     ]
    }
   ],
   "source": [
    "# You cannot and should not update the following line\n",
    "check('A3', A3, points=2.5)"
   ]
  },
  {
   "cell_type": "markdown",
   "metadata": {
    "editable": false,
    "slideshow": {
     "slide_type": "slide"
    }
   },
   "source": [
    "__4.__ Using the same organization as question 3, assuming a page still has room for up to $P$ entries, what is the occupancy percentage of an average page in the new roster?"
   ]
  },
  {
   "cell_type": "code",
   "execution_count": 10,
   "metadata": {
    "execution": {
     "iopub.execute_input": "2023-04-14T12:54:00.164375Z",
     "iopub.status.busy": "2023-04-14T12:54:00.163616Z",
     "iopub.status.idle": "2023-04-14T12:54:00.170291Z",
     "shell.execute_reply": "2023-04-14T12:54:00.169259Z"
    },
    "slideshow": {
     "slide_type": "slide"
    }
   },
   "outputs": [
    {
     "name": "stdout",
     "output_type": "stream",
     "text": [
      "The occupancy percentage of an average page is 51.2\n"
     ]
    }
   ],
   "source": [
    "# compute your answer into A4\n",
    "A4 = P/M*100\n",
    "\n",
    "print(f'The occupancy percentage of an average page is {A4}')"
   ]
  },
  {
   "cell_type": "code",
   "execution_count": 11,
   "metadata": {
    "editable": false,
    "execution": {
     "iopub.execute_input": "2023-04-14T12:54:00.174897Z",
     "iopub.status.busy": "2023-04-14T12:54:00.174173Z",
     "iopub.status.idle": "2023-04-14T12:54:00.180274Z",
     "shell.execute_reply": "2023-04-14T12:54:00.179192Z"
    },
    "slideshow": {
     "slide_type": "slide"
    }
   },
   "outputs": [
    {
     "name": "stdout",
     "output_type": "stream",
     "text": [
      "A4 appears correct\n"
     ]
    }
   ],
   "source": [
    "# You cannot and should not update the following line\n",
    "check('A4', A4, points=5)"
   ]
  },
  {
   "cell_type": "markdown",
   "metadata": {
    "editable": false,
    "slideshow": {
     "slide_type": "slide"
    }
   },
   "source": [
    "__5.__ Now suppose we add a two-level index to the roster. The one-page primary index lists the first name on each of the secondary index pages. The secondary index pages list the first name on each of the roster pages. Assume no first name has more than 1 page of entries. How many pages must be examined to look up a given first name?"
   ]
  },
  {
   "cell_type": "code",
   "execution_count": 12,
   "metadata": {
    "execution": {
     "iopub.execute_input": "2023-04-14T12:54:00.185112Z",
     "iopub.status.busy": "2023-04-14T12:54:00.184413Z",
     "iopub.status.idle": "2023-04-14T12:54:00.190624Z",
     "shell.execute_reply": "2023-04-14T12:54:00.189602Z"
    },
    "slideshow": {
     "slide_type": "slide"
    }
   },
   "outputs": [
    {
     "name": "stdout",
     "output_type": "stream",
     "text": [
      "Given a two-level index, it requires 3 pages for a name lookup.\n"
     ]
    }
   ],
   "source": [
    "# compute your answer into A5\n",
    "A5 = 3\n",
    "\n",
    "print (f'Given a two-level index, it requires {A5} pages for a name lookup.')"
   ]
  },
  {
   "cell_type": "code",
   "execution_count": 13,
   "metadata": {
    "editable": false,
    "execution": {
     "iopub.execute_input": "2023-04-14T12:54:00.195319Z",
     "iopub.status.busy": "2023-04-14T12:54:00.194584Z",
     "iopub.status.idle": "2023-04-14T12:54:00.200748Z",
     "shell.execute_reply": "2023-04-14T12:54:00.199684Z"
    },
    "slideshow": {
     "slide_type": "slide"
    }
   },
   "outputs": [
    {
     "name": "stdout",
     "output_type": "stream",
     "text": [
      "A5 appears correct\n"
     ]
    }
   ],
   "source": [
    "# You cannot and should not update the following line\n",
    "check('A5', A5, points=5)"
   ]
  },
  {
   "cell_type": "markdown",
   "metadata": {
    "editable": false,
    "slideshow": {
     "slide_type": "slide"
    }
   },
   "source": [
    "## Part 2\n",
    "\n",
    "Consider another disk with a total disk capacity of $C_{disk}$ TB, a surface capacity of $C_{surf}$ GB, and a sector size of $C_{sect}$ bytes. There are $S_t$ sectors per track. The average seek time is $T_{seek}$ seconds. \n",
    "\n",
    "I'm using the binary versions of Tera, Mega, etc. $T = 2^{40}$, $G = 2^{30}$, $M = 2^{20}$, etc.\n",
    "\n",
    "__6.__ What is the capacity of a single track in MB?"
   ]
  },
  {
   "cell_type": "code",
   "execution_count": 14,
   "metadata": {
    "execution": {
     "iopub.execute_input": "2023-04-14T12:54:00.205496Z",
     "iopub.status.busy": "2023-04-14T12:54:00.204790Z",
     "iopub.status.idle": "2023-04-14T12:54:00.211279Z",
     "shell.execute_reply": "2023-04-14T12:54:00.210206Z"
    },
    "slideshow": {
     "slide_type": "slide"
    }
   },
   "outputs": [
    {
     "name": "stdout",
     "output_type": "stream",
     "text": [
      "The capacity of a single track is 16.0 MB\n"
     ]
    }
   ],
   "source": [
    "# compute your answer into A6\n",
    "A6 = Csect*St/(2**20)\n",
    "\n",
    "print(f'The capacity of a single track is {A6} MB')"
   ]
  },
  {
   "cell_type": "code",
   "execution_count": 15,
   "metadata": {
    "editable": false,
    "execution": {
     "iopub.execute_input": "2023-04-14T12:54:00.215406Z",
     "iopub.status.busy": "2023-04-14T12:54:00.215099Z",
     "iopub.status.idle": "2023-04-14T12:54:00.221309Z",
     "shell.execute_reply": "2023-04-14T12:54:00.220245Z"
    },
    "slideshow": {
     "slide_type": "slide"
    }
   },
   "outputs": [
    {
     "name": "stdout",
     "output_type": "stream",
     "text": [
      "A6 appears correct\n"
     ]
    }
   ],
   "source": [
    "# You cannot and should not update the following line\n",
    "check('A6', A6, points=5)"
   ]
  },
  {
   "cell_type": "markdown",
   "metadata": {
    "editable": false,
    "slideshow": {
     "slide_type": "slide"
    }
   },
   "source": [
    "__7.__ How many tracks are on each surface?"
   ]
  },
  {
   "cell_type": "code",
   "execution_count": 16,
   "metadata": {
    "execution": {
     "iopub.execute_input": "2023-04-14T12:54:00.225863Z",
     "iopub.status.busy": "2023-04-14T12:54:00.225202Z",
     "iopub.status.idle": "2023-04-14T12:54:00.231590Z",
     "shell.execute_reply": "2023-04-14T12:54:00.230533Z"
    },
    "slideshow": {
     "slide_type": "slide"
    }
   },
   "outputs": [
    {
     "name": "stdout",
     "output_type": "stream",
     "text": [
      "There are 8192.0 tracks on each surface\n"
     ]
    }
   ],
   "source": [
    "# compute your answer into A7\n",
    "A7 = Csurf*(2**30)/(Csect*St)\n",
    "\n",
    "print(f'There are {A7} tracks on each surface')"
   ]
  },
  {
   "cell_type": "code",
   "execution_count": 17,
   "metadata": {
    "editable": false,
    "execution": {
     "iopub.execute_input": "2023-04-14T12:54:00.236263Z",
     "iopub.status.busy": "2023-04-14T12:54:00.235552Z",
     "iopub.status.idle": "2023-04-14T12:54:00.241702Z",
     "shell.execute_reply": "2023-04-14T12:54:00.240601Z"
    },
    "slideshow": {
     "slide_type": "slide"
    }
   },
   "outputs": [
    {
     "name": "stdout",
     "output_type": "stream",
     "text": [
      "A7 appears correct\n"
     ]
    }
   ],
   "source": [
    "# You cannot and should not update the following line\n",
    "check('A7', A7, points=5)"
   ]
  },
  {
   "cell_type": "markdown",
   "metadata": {
    "editable": false,
    "slideshow": {
     "slide_type": "slide"
    }
   },
   "source": [
    "__8.__ How many platters are in this disk? Each platter has 2 surfaces."
   ]
  },
  {
   "cell_type": "code",
   "execution_count": 18,
   "metadata": {
    "execution": {
     "iopub.execute_input": "2023-04-14T12:54:00.245967Z",
     "iopub.status.busy": "2023-04-14T12:54:00.245663Z",
     "iopub.status.idle": "2023-04-14T12:54:00.252449Z",
     "shell.execute_reply": "2023-04-14T12:54:00.251395Z"
    },
    "slideshow": {
     "slide_type": "slide"
    }
   },
   "outputs": [
    {
     "name": "stdout",
     "output_type": "stream",
     "text": [
      "There are 8.0 platters in this disk.\n"
     ]
    }
   ],
   "source": [
    "# compute your answer into A8\n",
    "A8 = (Cdisk*(2**40)) / ((Csurf*(2**30)/(Csect*St)) * 2*Csect*St)\n",
    "\n",
    "print(f'There are {A8} platters in this disk.')"
   ]
  },
  {
   "cell_type": "code",
   "execution_count": 19,
   "metadata": {
    "editable": false,
    "execution": {
     "iopub.execute_input": "2023-04-14T12:54:00.257016Z",
     "iopub.status.busy": "2023-04-14T12:54:00.256239Z",
     "iopub.status.idle": "2023-04-14T12:54:00.262330Z",
     "shell.execute_reply": "2023-04-14T12:54:00.261305Z"
    },
    "slideshow": {
     "slide_type": "slide"
    }
   },
   "outputs": [
    {
     "name": "stdout",
     "output_type": "stream",
     "text": [
      "A8 appears correct\n"
     ]
    }
   ],
   "source": [
    "# You cannot and should not update the following line\n",
    "check('A8', A8, points=5)"
   ]
  },
  {
   "cell_type": "markdown",
   "metadata": {
    "editable": false,
    "slideshow": {
     "slide_type": "slide"
    }
   },
   "source": [
    "__9.__ How many cylinders are in this disk?"
   ]
  },
  {
   "cell_type": "code",
   "execution_count": 20,
   "metadata": {
    "execution": {
     "iopub.execute_input": "2023-04-14T12:54:00.266636Z",
     "iopub.status.busy": "2023-04-14T12:54:00.266343Z",
     "iopub.status.idle": "2023-04-14T12:54:00.272628Z",
     "shell.execute_reply": "2023-04-14T12:54:00.271587Z"
    },
    "slideshow": {
     "slide_type": "slide"
    }
   },
   "outputs": [
    {
     "name": "stdout",
     "output_type": "stream",
     "text": [
      "There are 8192.0 cylinders in this disk\n"
     ]
    }
   ],
   "source": [
    "# compute your answer into A9\n",
    "A9 = Csurf*(2**30)/(Csect*St)\n",
    "\n",
    "print(f'There are {A9} cylinders in this disk')"
   ]
  },
  {
   "cell_type": "code",
   "execution_count": 21,
   "metadata": {
    "editable": false,
    "execution": {
     "iopub.execute_input": "2023-04-14T12:54:00.277340Z",
     "iopub.status.busy": "2023-04-14T12:54:00.276654Z",
     "iopub.status.idle": "2023-04-14T12:54:00.282610Z",
     "shell.execute_reply": "2023-04-14T12:54:00.281575Z"
    },
    "slideshow": {
     "slide_type": "slide"
    }
   },
   "outputs": [
    {
     "name": "stdout",
     "output_type": "stream",
     "text": [
      "A9 appears correct\n"
     ]
    }
   ],
   "source": [
    "# You cannot and should not update the following line\n",
    "check('A9', A9, points=5)"
   ]
  },
  {
   "cell_type": "markdown",
   "metadata": {
    "editable": false,
    "slideshow": {
     "slide_type": "slide"
    }
   },
   "source": [
    "__10.__ If the maximum rotational delay is $T_{rotation}$ what is the spinning speed of the disk in revolutions per minute (RPM)?"
   ]
  },
  {
   "cell_type": "code",
   "execution_count": 22,
   "metadata": {
    "execution": {
     "iopub.execute_input": "2023-04-14T12:54:00.287415Z",
     "iopub.status.busy": "2023-04-14T12:54:00.286699Z",
     "iopub.status.idle": "2023-04-14T12:54:00.293169Z",
     "shell.execute_reply": "2023-04-14T12:54:00.292107Z"
    },
    "slideshow": {
     "slide_type": "slide"
    }
   },
   "outputs": [
    {
     "name": "stdout",
     "output_type": "stream",
     "text": [
      "The spinning speed of the disk in revolutions per minute is 6000.0 RPMS\n"
     ]
    }
   ],
   "source": [
    "# compute your answer into A10\n",
    "A10 = 60/Trotation\n",
    "\n",
    "print(f'The spinning speed of the disk in revolutions per minute is {A10} RPMS')"
   ]
  },
  {
   "cell_type": "code",
   "execution_count": 23,
   "metadata": {
    "editable": false,
    "execution": {
     "iopub.execute_input": "2023-04-14T12:54:00.297474Z",
     "iopub.status.busy": "2023-04-14T12:54:00.297167Z",
     "iopub.status.idle": "2023-04-14T12:54:00.303278Z",
     "shell.execute_reply": "2023-04-14T12:54:00.302212Z"
    },
    "slideshow": {
     "slide_type": "slide"
    }
   },
   "outputs": [
    {
     "name": "stdout",
     "output_type": "stream",
     "text": [
      "A10 appears correct\n"
     ]
    }
   ],
   "source": [
    "# You cannot and should not update the following line\n",
    "check('A10', A10, points=5)"
   ]
  },
  {
   "cell_type": "markdown",
   "metadata": {
    "editable": false,
    "slideshow": {
     "slide_type": "slide"
    }
   },
   "source": [
    "__11.__ Suppose that a file containing $N_{file}$ records of 250 bytes each is to be stored on such a disk, and that no record is allowed to span two blocks. Assume a block size of $C_{block}$ bytes. How many blocks are required to store the entire file?"
   ]
  },
  {
   "cell_type": "code",
   "execution_count": 24,
   "metadata": {
    "execution": {
     "iopub.execute_input": "2023-04-14T12:54:00.308232Z",
     "iopub.status.busy": "2023-04-14T12:54:00.307278Z",
     "iopub.status.idle": "2023-04-14T12:54:00.314318Z",
     "shell.execute_reply": "2023-04-14T12:54:00.313291Z"
    },
    "slideshow": {
     "slide_type": "slide"
    }
   },
   "outputs": [
    {
     "name": "stdout",
     "output_type": "stream",
     "text": [
      "It requires 62500 blocks to store the entire file.\n"
     ]
    }
   ],
   "source": [
    "# Leave your answer in A11\n",
    "A11 = Nfile // floor(Cblock/250)\n",
    "\n",
    "print(f'It requires {A11} blocks to store the entire file.')"
   ]
  },
  {
   "cell_type": "code",
   "execution_count": 25,
   "metadata": {
    "editable": false,
    "execution": {
     "iopub.execute_input": "2023-04-14T12:54:00.318671Z",
     "iopub.status.busy": "2023-04-14T12:54:00.318375Z",
     "iopub.status.idle": "2023-04-14T12:54:00.324710Z",
     "shell.execute_reply": "2023-04-14T12:54:00.323642Z"
    },
    "slideshow": {
     "slide_type": "slide"
    }
   },
   "outputs": [
    {
     "name": "stdout",
     "output_type": "stream",
     "text": [
      "A11 appears correct\n"
     ]
    }
   ],
   "source": [
    "# You cannot and should not update this line\n",
    "check('A11', int(A11), points=5)"
   ]
  },
  {
   "cell_type": "markdown",
   "metadata": {
    "editable": false,
    "slideshow": {
     "slide_type": "slide"
    }
   },
   "source": [
    "## Part 3\n",
    "\n",
    "## 1. Find the following using SQL queries"
   ]
  },
  {
   "cell_type": "code",
   "execution_count": 26,
   "metadata": {
    "execution": {
     "iopub.execute_input": "2023-04-14T12:54:00.329061Z",
     "iopub.status.busy": "2023-04-14T12:54:00.328761Z",
     "iopub.status.idle": "2023-04-14T12:54:00.337668Z",
     "shell.execute_reply": "2023-04-14T12:54:00.336623Z"
    },
    "slideshow": {
     "slide_type": "slide"
    }
   },
   "outputs": [
    {
     "name": "stdout",
     "output_type": "stream",
     "text": [
      "The schema for the legislature database is:\n",
      "CREATE TABLE Legislators\n",
      "     (legislator_id INTEGER PRIMARY KEY,\n",
      "     party TEXT CHECK(party IN ('Democratic', 'Republican', 'Independent', 'Green', 'Libertarian', 'Nonpartisan')),\n",
      "     role text CHECK(role IN ('Senator', 'Representative')),\n",
      "     name text,\n",
      "     first_name text,\n",
      "     middle_name text,\n",
      "     last_name text,\n",
      "     district text CHECK(SUBSTR(district, 1,3) IN ('HD-', 'SD-')) -- Start with HD for House and SD for Senate\n",
      "     )\n",
      "CREATE TABLE Bills\n",
      "     (bill_id INTEGER PRIMARY KEY,\n",
      "     title TEXT NOT NULL,\n",
      "     status TEXT CHECK(status IN ('Introduced', 'Passes', 'Vetoed')),\n",
      "     status_date TEXT, -- YYYY-MM-DD\n",
      "     url TEXT)\n",
      "CREATE TABLE Roll_calls\n",
      "     (roll_call_id INTEGER PRIMARY KEY,\n",
      "     bill_id INTEGER REFERENCES Bills(bill_id) NOT NULL,\n",
      "     description TEXT,\n",
      "     date TEXT, -- YYYY-MM-DD if available\n",
      "     yea INTEGER UNSIGNED, -- Count of Yeas\n",
      "     nay INTEGER UNSIGNED, -- Count of Nays\n",
      "     not_voting INTEGER UNSIGNED, -- Count of not voting\n",
      "     absent INTEGER UNSIGNED, -- Count of absent\n",
      "     passed INTEGER CHECK(passed IN (0, 1)),\n",
      "     status_date TEXT, -- YYYY-MM-DD\n",
      "     chamber TEXT CHECK(chamber IN ('House', 'Senate')))\n",
      "CREATE TABLE Votes\n",
      "     (roll_call_id INTEGER REFERENCES Roll_calls(Roll_call_id),\n",
      "     legislator_id INTEGER REFERENCES Legislators(legislator_id) NOT NULL,\n",
      "     vote_text TEXT CHECK(vote_text IN ('Yea', 'Nay', 'Abstain', 'Absent')),\n",
      "     UNIQUE(roll_call_id, legislator_id))\n",
      "CREATE TABLE Sponsors\n",
      "     (bill_id INTEGER REFERENCES Bills(bill_id),\n",
      "     legislator_id INTEGER REFERENCES Legislators(legislator_id) NOT NULL,\n",
      "     UNIQUE(bill_id, legislator_id))\n",
      "CREATE TABLE Subject_names\n",
      "     (subject_id INTEGER PRIMARY KEY,\n",
      "     subject_name TEXT,\n",
      "     UNIQUE(subject_name))\n",
      "CREATE TABLE Bill_subjects\n",
      "     (subject_id INTEGER REFERENCES Subject_names(subject_id) NOT NULL,\n",
      "     bill_id INTEGER REFERENCES Bills(bill_id) NOT NULL,\n",
      "     UNIQUE(subject_id, bill_id))\n"
     ]
    }
   ],
   "source": [
    "# Set up the database\n",
    "conn = sqlite3.connect('nc-legislature.sqlite')\n",
    "cursor = conn.cursor()\n",
    "cursor.execute('PRAGMA foreign_keys = ON')\n",
    "\n",
    "print('The schema for the legislature database is:')\n",
    "with open('nc-legislature.json') as fid:\n",
    "    print(json.load(fid))"
   ]
  },
  {
   "cell_type": "markdown",
   "metadata": {
    "editable": false,
    "slideshow": {
     "slide_type": "slide"
    }
   },
   "source": [
    "**1a** Timothy Moore is the Speaker of the North Carolina House of Representatives.\n",
    "\n",
    "Set variable `q1a` equal to a query to retrieve Timothy Moore's middle name."
   ]
  },
  {
   "cell_type": "code",
   "execution_count": 27,
   "metadata": {
    "execution": {
     "iopub.execute_input": "2023-04-14T12:54:00.342052Z",
     "iopub.status.busy": "2023-04-14T12:54:00.341749Z",
     "iopub.status.idle": "2023-04-14T12:54:00.349447Z",
     "shell.execute_reply": "2023-04-14T12:54:00.348455Z"
    },
    "slideshow": {
     "slide_type": "slide"
    }
   },
   "outputs": [
    {
     "name": "stdout",
     "output_type": "stream",
     "text": [
      "Timothy Moore's middle name is 'Keith'\n"
     ]
    }
   ],
   "source": [
    "# write your query as a single string here\n",
    "q1a = \"\"\"SELECT DISTINCT middle_name\n",
    "        FROM Legislators\n",
    "        WHERE first_name = 'Timothy' AND last_name = 'Moore' AND role = 'Representative'\"\"\"\n",
    "\n",
    "# code to execute your query, leave this alone\n",
    "print(f\"Timothy Moore's middle name is '{cursor.execute(q1a).fetchone()[0]}'\")"
   ]
  },
  {
   "cell_type": "code",
   "execution_count": 28,
   "metadata": {
    "editable": false,
    "execution": {
     "iopub.execute_input": "2023-04-14T12:54:00.353819Z",
     "iopub.status.busy": "2023-04-14T12:54:00.353496Z",
     "iopub.status.idle": "2023-04-14T12:54:00.361312Z",
     "shell.execute_reply": "2023-04-14T12:54:00.360295Z"
    },
    "slideshow": {
     "slide_type": "slide"
    }
   },
   "outputs": [
    {
     "name": "stdout",
     "output_type": "stream",
     "text": [
      "1a appears correct\n"
     ]
    }
   ],
   "source": [
    "# you cannot and should not update this cell\n",
    "cursor.execute(q1a)\n",
    "middle_name = cursor.fetchone()[0]\n",
    "check('1a', middle_name, points=8)"
   ]
  },
  {
   "cell_type": "markdown",
   "metadata": {
    "editable": false,
    "slideshow": {
     "slide_type": "slide"
    }
   },
   "source": [
    "**1b**. How many legislators are in each of the two chambers of the North Carolina legislator?\n",
    "\n",
    "Set the variable `q1b` equal to a single query that returns the number of Representative(s) / Senator(s) along \n",
    "with the legislative role.\n",
    "\n",
    "See the Legislators(role) constraint in the schema for more information on the possible values.\n",
    "\n",
    "The print statement in the following cell may also be helpful."
   ]
  },
  {
   "cell_type": "code",
   "execution_count": 29,
   "metadata": {
    "execution": {
     "iopub.execute_input": "2023-04-14T12:54:00.365573Z",
     "iopub.status.busy": "2023-04-14T12:54:00.365272Z",
     "iopub.status.idle": "2023-04-14T12:54:00.373382Z",
     "shell.execute_reply": "2023-04-14T12:54:00.372390Z"
    },
    "slideshow": {
     "slide_type": "slide"
    }
   },
   "outputs": [
    {
     "name": "stdout",
     "output_type": "stream",
     "text": [
      "There were 124 legislators with the role of Representative\n",
      "There were 50 legislators with the role of Senator\n"
     ]
    }
   ],
   "source": [
    "q1b = \"\"\"SELECT DISTINCT COUNT(*), role\n",
    "        FROM Legislators\n",
    "        GROUP BY role\"\"\"\n",
    "\n",
    "# test code\n",
    "cursor.execute(q1b)\n",
    "for row in cursor.fetchall():\n",
    "    print(f'There were {row[0]} legislators with the role of {row[1]}')"
   ]
  },
  {
   "cell_type": "code",
   "execution_count": 30,
   "metadata": {
    "editable": false,
    "execution": {
     "iopub.execute_input": "2023-04-14T12:54:00.378322Z",
     "iopub.status.busy": "2023-04-14T12:54:00.377385Z",
     "iopub.status.idle": "2023-04-14T12:54:00.384242Z",
     "shell.execute_reply": "2023-04-14T12:54:00.383262Z"
    },
    "slideshow": {
     "slide_type": "slide"
    }
   },
   "outputs": [
    {
     "name": "stdout",
     "output_type": "stream",
     "text": [
      "1b appears correct\n"
     ]
    }
   ],
   "source": [
    "# you cannot and should not update this cell\n",
    "check('1b', sorted(cursor.execute(q1b).fetchall()), points=5)"
   ]
  },
  {
   "cell_type": "markdown",
   "metadata": {
    "editable": false,
    "slideshow": {
     "slide_type": "slide"
    }
   },
   "source": [
    "**1c**. What is the most common status of a bill in the North Carolina legislature? \n",
    "\n",
    "Set variable `q1c` to a query that will return the number of bills in each status along with the status name.\n",
    "The query should return the most common bill status first and the least common bill status last."
   ]
  },
  {
   "cell_type": "code",
   "execution_count": 31,
   "metadata": {
    "execution": {
     "iopub.execute_input": "2023-04-14T12:54:00.388567Z",
     "iopub.status.busy": "2023-04-14T12:54:00.388247Z",
     "iopub.status.idle": "2023-04-14T12:54:00.398475Z",
     "shell.execute_reply": "2023-04-14T12:54:00.397505Z"
    },
    "slideshow": {
     "slide_type": "slide"
    }
   },
   "outputs": [
    {
     "name": "stdout",
     "output_type": "stream",
     "text": [
      "There were 1471 bills in the status of Introduced\n",
      "There were 267 bills in the status of Passes\n",
      "There were 22 bills in the status of Vetoed\n"
     ]
    }
   ],
   "source": [
    "q1c = \"\"\"SELECT COUNT(*), status\n",
    "        FROM Bills\n",
    "        GROUP BY status\n",
    "        ORDER BY COUNT(*) DESC\"\"\"\n",
    "\n",
    "# test\n",
    "for row in cursor.execute(q1c).fetchall():\n",
    "    print(f'There were {row[0]} bills in the status of {row[1]}')"
   ]
  },
  {
   "cell_type": "code",
   "execution_count": 32,
   "metadata": {
    "editable": false,
    "execution": {
     "iopub.execute_input": "2023-04-14T12:54:00.402904Z",
     "iopub.status.busy": "2023-04-14T12:54:00.402192Z",
     "iopub.status.idle": "2023-04-14T12:54:00.409631Z",
     "shell.execute_reply": "2023-04-14T12:54:00.408644Z"
    },
    "slideshow": {
     "slide_type": "slide"
    }
   },
   "outputs": [
    {
     "name": "stdout",
     "output_type": "stream",
     "text": [
      "1c appears correct\n"
     ]
    }
   ],
   "source": [
    "# you cannot and should not update this cell\n",
    "check('1c', cursor.execute(q1c).fetchall(), points=5)"
   ]
  },
  {
   "cell_type": "markdown",
   "metadata": {
    "editable": false,
    "slideshow": {
     "slide_type": "slide"
    }
   },
   "source": [
    "**1d**. What is the **percentage** of each bill status in the North Carolina legislature?\n",
    "\n",
    "Set variable `q1d` to a query that will return the percentage of bills in each status along with the status name.\n",
    "The query should return the most common bill status first and the least common bill status last.\n",
    "\n",
    "Remember, percentage of a finite capacity is a float number that goes from 0.0 to 100.0."
   ]
  },
  {
   "cell_type": "code",
   "execution_count": 33,
   "metadata": {
    "execution": {
     "iopub.execute_input": "2023-04-14T12:54:00.413974Z",
     "iopub.status.busy": "2023-04-14T12:54:00.413683Z",
     "iopub.status.idle": "2023-04-14T12:54:00.423948Z",
     "shell.execute_reply": "2023-04-14T12:54:00.422947Z"
    },
    "slideshow": {
     "slide_type": "slide"
    }
   },
   "outputs": [
    {
     "name": "stdout",
     "output_type": "stream",
     "text": [
      "83.58% of bills in the North Carolina legislature ended in Introduced status\n",
      "15.17% of bills in the North Carolina legislature ended in Passes status\n",
      " 1.25% of bills in the North Carolina legislature ended in Vetoed status\n"
     ]
    }
   ],
   "source": [
    "q1d = \"\"\"SELECT cast((COUNT(*)*100.0/(SELECT COUNT(*) FROM Bills))as float) as percent, status\n",
    "        FROM Bills\n",
    "        GROUP BY Status\n",
    "        ORDER BY percent DESC\"\"\"\n",
    "\n",
    "# test\n",
    "for row in cursor.execute(q1d).fetchall():\n",
    "    print(f\"{format(str(round(row[0], 2)), ' >5s')}% of bills in the North Carolina legislature ended in {row[1]} status\")"
   ]
  },
  {
   "cell_type": "code",
   "execution_count": 34,
   "metadata": {
    "editable": false,
    "execution": {
     "iopub.execute_input": "2023-04-14T12:54:00.428482Z",
     "iopub.status.busy": "2023-04-14T12:54:00.427779Z",
     "iopub.status.idle": "2023-04-14T12:54:00.435361Z",
     "shell.execute_reply": "2023-04-14T12:54:00.434402Z"
    },
    "slideshow": {
     "slide_type": "slide"
    }
   },
   "outputs": [
    {
     "name": "stdout",
     "output_type": "stream",
     "text": [
      "1d appears correct\n"
     ]
    }
   ],
   "source": [
    "# You cannot and should not update this cell\n",
    "check('1d', cursor.execute(q1d).fetchall(), points=10)"
   ]
  },
  {
   "cell_type": "markdown",
   "metadata": {
    "editable": false,
    "slideshow": {
     "slide_type": "slide"
    }
   },
   "source": [
    "## 2. Fill in the body of the functions below.\n",
    "\n",
    "**2a**. Fill in the code below to get the name of the legislature who was most absent.\n",
    "The function `who_most_absent` takes the role of Senator or Republican and\n",
    "the party of Democratic or Republican as parameters.\n",
    "\n",
    "_In hindsight_, the name field for the legislators should be full name, chosen name, or given name.\n",
    "But for this question, please return the field **name** from the Legislator relation.\n",
    "\n",
    "**NOTE:** You must <font color='red' style='+1'>NOT</font> use a for loop or any other implied loop.\n",
    "You must only use a SQL query.\n",
    "\n",
    "\n",
    "Since you cannot return a list, you can be assured that there is only one legislature who was the most absent."
   ]
  },
  {
   "cell_type": "code",
   "execution_count": 35,
   "metadata": {
    "execution": {
     "iopub.execute_input": "2023-04-14T12:54:00.439691Z",
     "iopub.status.busy": "2023-04-14T12:54:00.439394Z",
     "iopub.status.idle": "2023-04-14T12:54:00.603443Z",
     "shell.execute_reply": "2023-04-14T12:54:00.602338Z"
    },
    "slideshow": {
     "slide_type": "slide"
    }
   },
   "outputs": [
    {
     "name": "stdout",
     "output_type": "stream",
     "text": [
      "The Democratic Representative who voted absent most was Kelly Alexander\n",
      "\n",
      "The Democratic Senator who voted absent most was Ernestine Bazemore\n",
      "\n",
      "The Republican Representative who voted absent most was Sarah Stevens\n",
      "\n",
      "The Republican Senator who voted absent most was Robert Steinburg\n",
      "\n"
     ]
    }
   ],
   "source": [
    "def who_most_absent(role, party):\n",
    "    q2a = '''SELECT DISTINCT L.name\n",
    "            FROM Legislators L, Votes V\n",
    "            WHERE V.vote_text = 'Absent' AND V.legislator_id = L.legislator_id AND L.role = ? AND L.party = ?\n",
    "            GROUP BY L.name\n",
    "            ORDER BY COUNT(*) DESC\n",
    "            LIMIT 1\n",
    "            '''\n",
    "    return cursor.execute(q2a, [role, party]).fetchall()\n",
    "assert not comp421.check_for_loops(who_most_absent)\n",
    "\n",
    "for party in ['Democratic', 'Republican']:\n",
    "    for role in ['Representative', 'Senator']:\n",
    "        for row in who_most_absent(role, party):\n",
    "            print(f'The {party} {role} who voted absent most was {row[0]}')\n",
    "        print()"
   ]
  },
  {
   "cell_type": "code",
   "execution_count": 36,
   "metadata": {
    "editable": false,
    "execution": {
     "iopub.execute_input": "2023-04-14T12:54:00.609054Z",
     "iopub.status.busy": "2023-04-14T12:54:00.608068Z",
     "iopub.status.idle": "2023-04-14T12:54:00.754498Z",
     "shell.execute_reply": "2023-04-14T12:54:00.753448Z"
    },
    "slideshow": {
     "slide_type": "slide"
    }
   },
   "outputs": [
    {
     "name": "stdout",
     "output_type": "stream",
     "text": [
      "2a-Democratic-Representative appears correct\n",
      "2a-Democratic-Senator appears correct\n",
      "2a-Republican-Representative appears correct\n",
      "2a-Republican-Senator appears correct\n"
     ]
    }
   ],
   "source": [
    "# You cannot and should not update this cell\n",
    "if not comp421.check_for_loops(who_most_absent):\n",
    "    # Only get credit if you have no loops\n",
    "    for party in ['Democratic', 'Republican']:\n",
    "        for role in ['Representative', 'Senator']:\n",
    "            check(f'2a-{party}-{role}', who_most_absent(role, party)[0], points=1.5)"
   ]
  },
  {
   "cell_type": "markdown",
   "metadata": {
    "editable": false,
    "slideshow": {
     "slide_type": "slide"
    }
   },
   "source": [
    "**2b**. Write a function that takes a chamber of House or Senate\n",
    "and returns the title of the last bill passed by that chamber.\n",
    "\n",
    "**NOTE:** You must <font color='red' style='+1'>NOT</font> use a for loop or any other implied loop.\n",
    "You must only use a SQL query.\n",
    "\n",
    "Since you cannot return a list, you can be assured that there is only one last"
   ]
  },
  {
   "cell_type": "code",
   "execution_count": 37,
   "metadata": {
    "execution": {
     "iopub.execute_input": "2023-04-14T12:54:00.759262Z",
     "iopub.status.busy": "2023-04-14T12:54:00.758945Z",
     "iopub.status.idle": "2023-04-14T12:54:00.769644Z",
     "shell.execute_reply": "2023-04-14T12:54:00.768670Z"
    },
    "slideshow": {
     "slide_type": "slide"
    }
   },
   "outputs": [
    {
     "name": "stdout",
     "output_type": "stream",
     "text": [
      "The last bill passed by the North Carolina House was Regulatory Reform Act of 2022\n",
      "The last bill passed by the North Carolina Senate was Regulatory Reform Act of 2022\n"
     ]
    }
   ],
   "source": [
    "def last_approved(chamber):\n",
    "    ''' Given a chamber (House or Senate) return the last bill '''\n",
    "    q2b = '''SELECT DISTINCT B.title\n",
    "            FROM Bills B, Roll_calls R\n",
    "            WHERE R.bill_id = B.bill_id AND R.passed = 1 AND R.chamber = ?\n",
    "            GROUP BY B.title\n",
    "            ORDER BY B.status_date DESC\n",
    "            LIMIT 1\n",
    "            '''\n",
    "    return cursor.execute(q2b, [chamber,]).fetchone()[0]\n",
    "    #your code here\n",
    "\n",
    "print(f'The last bill passed by the North Carolina House was {last_approved(\"House\")}')\n",
    "print(f'The last bill passed by the North Carolina Senate was {last_approved(\"Senate\")}')"
   ]
  },
  {
   "cell_type": "code",
   "execution_count": 38,
   "metadata": {
    "editable": false,
    "execution": {
     "iopub.execute_input": "2023-04-14T12:54:00.773945Z",
     "iopub.status.busy": "2023-04-14T12:54:00.773652Z",
     "iopub.status.idle": "2023-04-14T12:54:00.783743Z",
     "shell.execute_reply": "2023-04-14T12:54:00.782793Z"
    },
    "slideshow": {
     "slide_type": "slide"
    }
   },
   "outputs": [
    {
     "name": "stdout",
     "output_type": "stream",
     "text": [
      "2b-House appears correct\n",
      "2b-Senate appears correct\n"
     ]
    }
   ],
   "source": [
    "# You cannot and should not update this cell\n",
    "if not comp421.check_for_loops(last_approved):\n",
    "    for chamber in ['House', 'Senate']:\n",
    "        check(f'2b-{chamber}', last_approved(chamber), points=5)"
   ]
  },
  {
   "cell_type": "code",
   "execution_count": 39,
   "metadata": {
    "deletable": false,
    "editable": false,
    "execution": {
     "iopub.execute_input": "2023-04-14T12:54:00.788434Z",
     "iopub.status.busy": "2023-04-14T12:54:00.787527Z",
     "iopub.status.idle": "2023-04-14T12:54:00.794875Z",
     "shell.execute_reply": "2023-04-14T12:54:00.793918Z"
    },
    "slideshow": {
     "slide_type": "slide"
    }
   },
   "outputs": [
    {
     "name": "stdout",
     "output_type": "stream",
     "text": [
      "  Collaborators: []\n",
      "Report for mkrishn\n",
      "  24 of 24 appear correct, 100 of 100 points\n"
     ]
    }
   ],
   "source": [
    "# You cannot and should not update this cell\n",
    "# This cell will produce a summary report of your assignment\n",
    "report(Author, Collaborators)"
   ]
  },
  {
   "cell_type": "markdown",
   "metadata": {
    "editable": false,
    "slideshow": {
     "slide_type": "slide"
    }
   },
   "source": [
    "## Done!\n",
    "<img src=\"https://comp421.cs.unc.edu/static/images/restartAndClearOutput.png\" width=\"300\" style=\"float: right\" />\n",
    "\n",
    "Now go back, restart the kernel (menu <font color=\"green\">Kernel</font>-><font color=\"green\">Restart and Clear</font>), and then Shift-Enter your way through the notebook to run all the cells again so you an be sure all your code will work as you expect during grading."
   ]
  },
  {
   "cell_type": "markdown",
   "metadata": {
    "editable": false,
    "slideshow": {
     "slide_type": "slide"
    }
   },
   "source": [
    "## Saving your work\n",
    "<img src=\"https://comp421.cs.unc.edu/static/images/saveAndCheckpoint.png\" width=\"300\" style=\"float: right\" />\n",
    "\n",
    "Now save your work by going to (menu <font color='green'>File</font>-><font color='green'>Save and Checkpoint</font>)"
   ]
  },
  {
   "cell_type": "markdown",
   "metadata": {
    "editable": false,
    "slideshow": {
     "slide_type": "slide"
    }
   },
   "source": [
    "## Submit your notebook\n",
    "\n",
    "After saving, restarting the kernel, and verifying your report,\n",
    "you can submit your notebook.\n",
    "Go to https://comp421.cs.unc.edu/notebook\n",
    "\n",
    "\n",
    "Note that if you actually saved your work you should not see the leaving site message below.\n",
    "If you do see the `Leave Site` warning, cancel and save your work again.\n",
    "<br />\n",
    "<img src=\"https://comp421.cs.unc.edu/static/images/leaveSite.png\" width=\"300\" style=\"float: left\" />"
   ]
  },
  {
   "cell_type": "code",
   "execution_count": null,
   "metadata": {},
   "outputs": [],
   "source": []
  }
 ],
 "metadata": {
  "kernelspec": {
   "display_name": "Python 3 (ipykernel)",
   "language": "python",
   "name": "python3"
  },
  "language_info": {
   "codemirror_mode": {
    "name": "ipython",
    "version": 3
   },
   "file_extension": ".py",
   "mimetype": "text/x-python",
   "name": "python",
   "nbconvert_exporter": "python",
   "pygments_lexer": "ipython3",
   "version": "3.9.13"
  },
  "rise": {
   "enable_chalkboard": true,
   "scroll": true,
   "theme": "comp116"
  }
 },
 "nbformat": 4,
 "nbformat_minor": 1
}
