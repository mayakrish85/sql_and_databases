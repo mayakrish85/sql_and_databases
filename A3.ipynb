{
 "cells": [
  {
   "cell_type": "markdown",
   "metadata": {
    "editable": false,
    "slideshow": {
     "slide_type": "slide"
    }
   },
   "source": [
    "# A3 Implement a RESTful service\n",
    "\n",
    "<img src=\"https://comp421.cs.unc.edu/static/images/COMP421Logo.png\" \n",
    "     align=\"right\" style=\"display:inline; width:100px; \">\n",
    "\n",
    "In this assignment you will implement a simple database application with a REST interface. You'll use the Python [Bottle](https://bottlepy.org/docs/dev/tutorial.html) framework to handle the routing of requests to your code. I'll show you how it is done with an example below.\n",
    "\n",
    "We're running the server inside this notebook. Of course in the real world you wouldn't do it like this but the code would be nearly the same. Look at the examples in the [REST lecture notes](https://comp421.cs.unc.edu/CH7-InternetReST-Preclass.slides.html) for details. You don't have to do any of that for this assignment.\n",
    "\n",
    "A bit of explanation about how this is working. You are writing functions that are bound to **routes** by the Bottle framework. The **decorator** above the function definition describes the binding. It looks like magic but under the\n",
    "covers they are simply building a table that maps strings in URLs to function calls. A simple route might look like this:\n",
    "\n",
    "```python\n",
    "@app.route('/foo')        # this is the decorator describing the route\n",
    "def index():              # this is the function to call\n",
    "    return {'r': 'Hello'} # return an object with key r and value \"Hello\"\n",
    "```\n",
    "\n",
    "When I am testing your code, I call a function I wrote named `getJson`. `getJson('foo')` uses the Python standard library to submit an HTTP request to `http://localhost:8080/foo`. The Bottle server (running in a background thread) receives the request, finds your function, calls it, and then packages whatever the function returns as a HTTP response. `getJson` gets that response, interprets the response code and decodes the JSON, if any. So, it may look like magic but it is all pretty standard web stuff. The one weird thing here is that the **server** (your code) and the **client** (my test code) are running in the same program. You can see the magic in the `server.py` file included with the assignment.\n",
    "\n",
    "If you would like to see your server working, simply open another tab in your browser and enter a URL like http://localhost:8080/classes to see the list of classes. I use the [JSONview extension for Chrome](https://chrome.google.com/webstore/detail/jsonview/chklaanhfefbnpoihckbnefhakgolnmc?hl=en) to nicely format the JSON for me but that isn't necessary for this assignment."
   ]
  },
  {
   "cell_type": "markdown",
   "metadata": {
    "editable": false,
    "slideshow": {
     "slide_type": "slide"
    }
   },
   "source": [
    "\n",
    "## DB Schema\n",
    "\n",
    "```sql\n",
    "CREATE TABLE Students (\n",
    "    sid INTEGER PRIMARY KEY,\n",
    "    fname TEXT,\n",
    "    lname TEXT)\n",
    "\n",
    "CREATE TABLE Courses (\n",
    "    cid INTEGER PRIMARY KEY,\n",
    "    name TEXT,\n",
    "    number TEXT,\n",
    "    department TEXT,\n",
    "    credit_hours INTEGER)\n",
    "\n",
    "CREATE TABLE Enrolled_in (\n",
    "    sid INTEGER,\n",
    "    cid INTEGER,\n",
    "    FOREIGN KEY(sid) REFERENCES Students ON DELETE CASCADE,\n",
    "    FOREIGN KEY(cid) REFERENCES Courses ON DELETE CASCADE,\n",
    "    UNIQUE (sid, cid))\n",
    "```"
   ]
  },
  {
   "cell_type": "markdown",
   "metadata": {
    "editable": false,
    "slideshow": {
     "slide_type": "slide"
    }
   },
   "source": [
    "## Setup\n",
    "\n",
    "Some text with a pink background will appear below this next cell. It should read:\n",
    "\n",
    "```\n",
    "Bottle v0.13-dev server starting up (using MyWSGIRefServer())...\n",
    "Listening on http://127.0.0.1:8080/\n",
    "Hit Ctrl-C to quit.\n",
    "```\n",
    "\n",
    "I highly recommend you look at **server.py** and the `getJson` and `makeURL` routines."
   ]
  },
  {
   "cell_type": "code",
   "execution_count": 1,
   "metadata": {
    "execution": {},
    "slideshow": {
     "slide_type": "slide"
    }
   },
   "outputs": [
    {
     "data": {
      "application/javascript": [
       "IPython.notebook.set_autosave_interval(15000)"
      ]
     },
     "metadata": {},
     "output_type": "display_data"
    },
    {
     "name": "stdout",
     "output_type": "stream",
     "text": [
      "Autosaving every 15 seconds\n"
     ]
    },
    {
     "name": "stderr",
     "output_type": "stream",
     "text": [
      "Bottle v0.13-dev server starting up (using MyWSGIRefServer())...\n",
      "Listening on http://127.0.0.1:8080/\n",
      "Hit Ctrl-C to quit.\n",
      "\n"
     ]
    }
   ],
   "source": [
    "%autosave 15\n",
    "import bottle\n",
    "import sqlite3\n",
    "\n",
    "# I have a hacked this so that the server runs in a background thread allowing \n",
    "# you go keep working without restarting it. Feel free to look at the code but\n",
    "# don't change it.\n",
    "from server import app, getJson, makeURL\n",
    "\n",
    "import comp421\n",
    "check, report = comp421.start('A3')\n",
    "\n",
    "# some text should appear below with a pink background. It looks like an error \n",
    "# but the notebook is showing it in pink because it came out on stderr."
   ]
  },
  {
   "cell_type": "code",
   "execution_count": 2,
   "metadata": {
    "execution": {},
    "slideshow": {
     "slide_type": "slide"
    }
   },
   "outputs": [],
   "source": [
    "# fill in your info here\n",
    "Author = \"mkrishn\"\n",
    "Collaborators = [\"sanjanam\", \"namitak\"]"
   ]
  },
  {
   "cell_type": "code",
   "execution_count": 3,
   "metadata": {
    "editable": false,
    "execution": {},
    "slideshow": {
     "slide_type": "slide"
    }
   },
   "outputs": [
    {
     "name": "stdout",
     "output_type": "stream",
     "text": [
      "Author appears correct\n",
      "Collaborators appears correct\n"
     ]
    }
   ],
   "source": [
    "# You cannot and should not update this cell\n",
    "check('Author', Author != 'youronyen', points=1, sort=True)\n",
    "check('Collaborators', Collaborators != ['list', 'their', 'onyens', 'here'], points=1, sort=True)"
   ]
  },
  {
   "cell_type": "markdown",
   "metadata": {
    "editable": false,
    "slideshow": {
     "slide_type": "slide"
    }
   },
   "source": [
    "## Helpers\n",
    "\n",
    "### Reset DB\n",
    "\n",
    "This cell defines a function that will reset the DB back to the initial state. This will prevent you from going insane because you can't get the correct answer with a database that is different from mine. Of course you wouldn't do this in the real world."
   ]
  },
  {
   "cell_type": "code",
   "execution_count": 4,
   "metadata": {
    "editable": false,
    "execution": {},
    "slideshow": {
     "slide_type": "slide"
    }
   },
   "outputs": [],
   "source": [
    "# You cannot and should not update this cell.  Just execute it\n",
    "\n",
    "import shutil\n",
    "import os\n",
    "import stat\n",
    "\n",
    "dbName = 'A3.sqlite'\n",
    "\n",
    "def resetDB():\n",
    "    \"\"\"Restore the db to the original state\"\"\"\n",
    "    assert Author != 'youronyen', f'The variable Author has not been set in the cell above'\n",
    "    assert Collaborators != [\"list\", \"their\", \"onyens\"], f'The variable Collaborators has not been set in the cell above'\n",
    "    os.chmod('A3Save.sqlite', stat.S_IRUSR)\n",
    "    shutil.copyfile('A3Save.sqlite', dbName)\n",
    "    \n",
    "resetDB()"
   ]
  },
  {
   "cell_type": "markdown",
   "metadata": {
    "editable": false,
    "slideshow": {
     "slide_type": "slide"
    }
   },
   "source": [
    "### Connect to DB\n",
    "\n",
    "Use this function inside your handler to connect to the database. It will take care of closing it for you when the request is completed."
   ]
  },
  {
   "cell_type": "code",
   "execution_count": 5,
   "metadata": {
    "execution": {},
    "slideshow": {
     "slide_type": "slide"
    }
   },
   "outputs": [],
   "source": [
    "# You cannot and should not update this cell.  Just execute it\n",
    "def connect(name):\n",
    "    '''Return a db connection that will close and commit automatically'''\n",
    "    conn = sqlite3.connect(name)\n",
    "    conn.row_factory = sqlite3.Row\n",
    "    conn.cursor().execute('PRAGMA foreign_keys = ON')\n",
    "    return conn"
   ]
  },
  {
   "cell_type": "markdown",
   "metadata": {
    "editable": false,
    "slideshow": {
     "slide_type": "slide"
    }
   },
   "source": [
    "### makeURL Helper function\n",
    "\n",
    "Use this to create the URLs to hand back in the JSON. You just call it like\n",
    "\n",
    "`makeURL('students', 123)`\n",
    "\n",
    "and it will create a URL in the right format to return."
   ]
  },
  {
   "cell_type": "markdown",
   "metadata": {
    "editable": false,
    "slideshow": {
     "slide_type": "slide"
    }
   },
   "source": [
    "# Example\n",
    "\n",
    "I'll complete this one for you in entirety as an example of what you need to do. Pay close attention to the structure."
   ]
  },
  {
   "cell_type": "markdown",
   "metadata": {
    "editable": false,
    "slideshow": {
     "slide_type": "slide"
    }
   },
   "source": [
    "### Q0. GET /students List students\n",
    "\n",
    "When a GET request is received with URL `/students` you should return a JSON object with a single key `students` and value list of students in order by increasing `id`. Like this:\n",
    "\n",
    "```\n",
    "{ 'students': [\n",
    "    {\n",
    "        \"lastName\": \"Majikes\",\n",
    "        \"firstName\": \"John\",\n",
    "        \"id\": \"http://localhost:8080/students/123\"\n",
    "    }\n",
    "  ]\n",
    "}\n",
    "```"
   ]
  },
  {
   "cell_type": "code",
   "execution_count": 6,
   "metadata": {
    "editable": false,
    "execution": {},
    "slideshow": {
     "slide_type": "slide"
    }
   },
   "outputs": [
    {
     "name": "stdout",
     "output_type": "stream",
     "text": [
      "http response = 200\n",
      "{'students': [{'lastName': 'Carter',\n",
      "   'firstName': 'Ashwin',\n",
      "   'id': '/students/0'},\n",
      "  {'lastName': 'Velasquez', 'firstName': 'Alexandros', 'id': '/students/1'},\n",
      "  {'lastName': 'Beach', 'firstName': 'Ainsley', 'id': '/students/2'},\n",
      "  {'lastName': 'Person', 'firstName': 'Kamile', 'id': '/students/3'},\n",
      "  {'lastName': 'Buck', 'firstName': 'Maciej', 'id': '/students/4'},\n",
      "  {'lastName': 'Macfarlane', 'firstName': 'Evalyn', 'id': '/students/5'},\n",
      "  {'lastName': 'Schroeder', 'firstName': 'Monty', 'id': '/students/6'},\n",
      "  {'lastName': 'Ryder', 'firstName': 'Kiri', 'id': '/students/7'},\n",
      "  ...]}\n",
      "Q0. List students appears correct\n"
     ]
    },
    {
     "name": "stderr",
     "output_type": "stream",
     "text": [
      "127.0.0.1 - - [23/Mar/2023 13:16:38] \"get /students HTTP/1.1\" 200 9781\n"
     ]
    }
   ],
   "source": [
    "# You cannot and should not update this cell.  Just execute it\n",
    "\n",
    "@app.route('/students')\n",
    "def indexStudents():\n",
    "    \"\"\"List students\"\"\"\n",
    "    # open the DB; commit and close when we exit the block\n",
    "    with connect(dbName) as conn:\n",
    "        # run the sql query to get all the students\n",
    "        cursor = conn.execute('''SELECT S.sid, S.lname, S.fname\n",
    "                                   FROM Students AS S\n",
    "                                  ORDER BY S.sid''')\n",
    "        # reformat the data\n",
    "        result = [ { \"lastName\": lname, \"firstName\": fname, \"id\": makeURL('students', sid) }\n",
    "                   for sid, lname, fname in cursor.fetchall() ]\n",
    "        # Bottle is going to magically convert this dictionary to JSON\n",
    "        return { 'students': result }\n",
    "\n",
    "check('Q0. List students', getJson('students'), points=0)"
   ]
  },
  {
   "cell_type": "markdown",
   "metadata": {
    "editable": false,
    "slideshow": {
     "slide_type": "slide"
    }
   },
   "source": [
    "# Questions"
   ]
  },
  {
   "cell_type": "markdown",
   "metadata": {
    "editable": false,
    "slideshow": {
     "slide_type": "slide"
    }
   },
   "source": [
    "### Q1. GET /students/123 Return specific student data\n",
    "\n",
    "Return 404 if the given ID is invalid otherwise your result should look like this:\n",
    "```\n",
    "{\n",
    "    \"lastName\": \"Majikes\",\n",
    "    \"firstName\": \"John\",\n",
    "    \"id\": \"http://localhost:8080/students/3\",\n",
    "    \"classes\": [\n",
    "        \"http://localhost:8080/classes/1\",\n",
    "        \"http://localhost:8080/classes/4\"\n",
    "    ]\n",
    "}\n",
    "```\n",
    "\n",
    "Whenever you produce a list, order it by id.\n",
    "\n",
    "You can produce a 404 response like this:\n",
    "\n",
    "```python\n",
    "return bottle.HTTPResponse(status=404)\n",
    "```"
   ]
  },
  {
   "cell_type": "code",
   "execution_count": 7,
   "metadata": {
    "execution": {},
    "slideshow": {
     "slide_type": "slide"
    }
   },
   "outputs": [
    {
     "name": "stdout",
     "output_type": "stream",
     "text": [
      "http response = 200\n",
      "{'lastName': 'Velasquez',\n",
      " 'firstName': 'Alexandros',\n",
      " 'id': '/students/1',\n",
      " 'classes': ['/classes/1',\n",
      "  '/classes/2',\n",
      "  '/classes/6',\n",
      "  '/classes/10',\n",
      "  '/classes/18']}\n",
      "This should return succeed with a HTTP response code of 200\n",
      " along with the dictionary of student with sid=1\n",
      " {'lastName': 'Velasquez', 'firstName': 'Alexandros', 'id': '/students/1', 'classes': ['/classes/1', '/classes/2', '/classes/6', '/classes/10', '/classes/18']}\n"
     ]
    },
    {
     "name": "stderr",
     "output_type": "stream",
     "text": [
      "127.0.0.1 - - [23/Mar/2023 13:16:39] \"get /students/1 HTTP/1.1\" 200 159\n"
     ]
    }
   ],
   "source": [
    "@app.route('/students/<sid>')\n",
    "def student(sid):\n",
    "    \"\"\"Return students info and classes\"\"\"\n",
    "    with connect(dbName) as conn:\n",
    "        cursor = conn.execute('''SELECT C.cid\n",
    "                                   FROM Students AS S, Courses AS C, Enrolled_in AS E\n",
    "                                   WHERE S.sid = E.sid\n",
    "                                   AND E.cid = C.cid\n",
    "                                   AND S.sid=?\n",
    "                                   ORDER BY C.cid''', (sid,))\n",
    "        classes = [makeURL('classes', cid) for row in cursor.fetchall() for cid in row]\n",
    "        if not classes:\n",
    "            return bottle.HTTPResponse(status = 404)\n",
    "        cursor = conn.execute('''SELECT S.lname, S.fname\n",
    "                                    FROM Students AS S\n",
    "                                    WHERE S.sid=?''', (sid,)).fetchall()[0]\n",
    "        result={\"lastName\": cursor[0], \"firstName\": cursor[1], \"id\": makeURL('students', sid), \"classes\": classes}\n",
    "        return result\n",
    "        \n",
    "resetDB()\n",
    "print('This should return succeed with a HTTP response code of 200\\n',\n",
    "      'along with the dictionary of student with sid=1\\n',\n",
    "      getJson('students', 1))"
   ]
  },
  {
   "cell_type": "code",
   "execution_count": 8,
   "metadata": {
    "editable": false,
    "execution": {},
    "slideshow": {
     "slide_type": "slide"
    }
   },
   "outputs": [
    {
     "name": "stdout",
     "output_type": "stream",
     "text": [
      "http response = 200\n",
      "{'lastName': 'Velasquez',\n",
      " 'firstName': 'Alexandros',\n",
      " 'id': '/students/1',\n",
      " 'classes': ['/classes/1',\n",
      "  '/classes/2',\n",
      "  '/classes/6',\n",
      "  '/classes/10',\n",
      "  '/classes/18']}\n",
      "Q1. Student info appears correct\n",
      "http response = 404\n",
      "Q1. Non-existent student appears correct\n"
     ]
    },
    {
     "name": "stderr",
     "output_type": "stream",
     "text": [
      "127.0.0.1 - - [23/Mar/2023 13:16:39] \"get /students/1 HTTP/1.1\" 200 159\n",
      "127.0.0.1 - - [23/Mar/2023 13:16:39] \"get /students/-1 HTTP/1.1\" 404 0\n"
     ]
    }
   ],
   "source": [
    "# You cannot and should not update this cell\n",
    "\n",
    "resetDB()\n",
    "check('Q1. Student info', getJson('students', 1), points=2.5)\n",
    "check('Q1. Non-existent student', getJson('students', -1), points=2.5)"
   ]
  },
  {
   "cell_type": "markdown",
   "metadata": {
    "editable": false,
    "slideshow": {
     "slide_type": "slide"
    }
   },
   "source": [
    "### Q2. DELETE /students/123\n",
    "\n",
    "Delete the student and all of their enrollments. Produce a [404 response](https://datatracker.ietf.org/doc/html/rfc7231#section-6.5.4) if the student id is invalid. Produce a [204 response](https://tools.ietf.org/html/rfc7231#section-4.3.5) if successful.\n",
    "\n",
    "A 404 HTTP response can be create with a `bottle.HTTPResponse(status=404)`.\n",
    "A 204 response can created with a `bottle.HTTPResponse(status=204)`."
   ]
  },
  {
   "cell_type": "code",
   "execution_count": 9,
   "metadata": {
    "execution": {},
    "slideshow": {
     "slide_type": "slide"
    }
   },
   "outputs": [
    {
     "name": "stdout",
     "output_type": "stream",
     "text": [
      "http response = 204\n",
      " This should succeed with a HTTP response code of 204 204\n",
      "http response = 404\n",
      "This should fail to delete and return a HTTP response code of 404 404\n"
     ]
    },
    {
     "name": "stderr",
     "output_type": "stream",
     "text": [
      "127.0.0.1 - - [23/Mar/2023 13:16:40] \"delete /students/1 HTTP/1.1\" 204 0\n",
      "127.0.0.1 - - [23/Mar/2023 13:16:40] \"delete /students/1 HTTP/1.1\" 404 0\n"
     ]
    }
   ],
   "source": [
    "@app.route('/students/<sid>', method=\"delete\")\n",
    "def deleteStudent(sid):\n",
    "    \"\"\"Delete a student and their enrollment\"\"\"\n",
    "    # write your code here\n",
    "    with connect(dbName) as conn:\n",
    "        cursor = conn.execute('''SELECT S.sid\n",
    "                                    FROM Students AS S\n",
    "                                    WHERE S.sid=?''', (sid,)).fetchall()\n",
    "        if not cursor:\n",
    "            return bottle.HTTPResponse(status=404)\n",
    "        cursor=conn.execute('''DELETE \n",
    "                                FROM Students AS S\n",
    "                                WHERE S.sid=?''', (sid,))\n",
    "        return bottle.HTTPResponse(status=204)\n",
    "    \n",
    "resetDB()\n",
    "print(' This should succeed with a HTTP response code of 204', \n",
    "      getJson('students', 1, method='delete'))\n",
    "print('This should fail to delete and return a HTTP response code of 404', \n",
    "      getJson('students', 1, method='delete'))"
   ]
  },
  {
   "cell_type": "code",
   "execution_count": 10,
   "metadata": {
    "editable": false,
    "execution": {},
    "slideshow": {
     "slide_type": "slide"
    }
   },
   "outputs": [
    {
     "name": "stdout",
     "output_type": "stream",
     "text": [
      "http response = 204\n",
      "Q2. Student delete appears correct\n",
      "http response = 404\n",
      "Q2. Student delete again appears correct\n"
     ]
    },
    {
     "name": "stderr",
     "output_type": "stream",
     "text": [
      "127.0.0.1 - - [23/Mar/2023 13:16:40] \"delete /students/1 HTTP/1.1\" 204 0\n",
      "127.0.0.1 - - [23/Mar/2023 13:16:40] \"delete /students/1 HTTP/1.1\" 404 0\n"
     ]
    }
   ],
   "source": [
    "# You cannot and should not update this cell\n",
    "\n",
    "resetDB()\n",
    "# this one should succeed returning a 204\n",
    "check('Q2. Student delete', getJson('students', 1, method='delete'))\n",
    "# this one should fail returning 404\n",
    "check('Q2. Student delete again', getJson('students', 1, method='delete'))"
   ]
  },
  {
   "cell_type": "markdown",
   "metadata": {
    "editable": false,
    "slideshow": {
     "slide_type": "slide"
    }
   },
   "source": [
    "### Q3. POST /students create a student\n",
    "\n",
    "The POST body will be json like this:\n",
    "```\n",
    "{\n",
    "    \"lastName\": \"Majikes\",\n",
    "    \"firstName\": \"John\"\n",
    "}\n",
    "```\n",
    "I have included the code below to extract the POST body and convert it from json to a Python dictionary ready\n",
    "for you to access the values like `body['lastName']`.\n",
    "\n",
    "Return a response like this:\n",
    "```\n",
    "{\n",
    "    \"lastName\": \"Majikes\",\n",
    "    \"firstName\": \"John\",\n",
    "    \"id\": \"http://localhost:8080/students/123\"\n",
    "}\n",
    "```\n",
    "\n",
    "The returned \"id\" from the insert is in the cursor `lastrowid` field.\n",
    "That id should be the next id in the table. "
   ]
  },
  {
   "cell_type": "code",
   "execution_count": 11,
   "metadata": {
    "execution": {},
    "slideshow": {
     "slide_type": "slide"
    }
   },
   "outputs": [
    {
     "name": "stdout",
     "output_type": "stream",
     "text": [
      "http response = 200\n",
      "{'lastName': 'Majikes', 'firstName': 'John', 'id': '/students/150'}\n",
      "An insert of student John Majikes should succeed with a HTTP response code of 200\n",
      " {'lastName': 'Majikes', 'firstName': 'John', 'id': '/students/150'}\n"
     ]
    },
    {
     "name": "stderr",
     "output_type": "stream",
     "text": [
      "127.0.0.1 - - [23/Mar/2023 13:16:40] \"post /students HTTP/1.1\" 200 64\n"
     ]
    }
   ],
   "source": [
    "@app.route('/students', method='post')\n",
    "def addStudent():\n",
    "    \"\"\"Insert a new student\"\"\"\n",
    "    with connect(dbName) as conn:\n",
    "        body = bottle.request.json\n",
    "        # write your code here\n",
    "        cursor = conn.execute('''INSERT INTO Students(lname, fname) \n",
    "                                    VALUES (?, ?)''', (body['lastName'], body['firstName'],))\n",
    "        rid = cursor.lastrowid\n",
    "        result = {\"lastName\": body['lastName'], \"firstName\": body['firstName'], \"id\": makeURL('students', rid)}\n",
    "        return result\n",
    "resetDB()\n",
    "aStudent = { \"lastName\": \"Majikes\", \"firstName\": \"John\" }\n",
    "print(f'An insert of student {aStudent[\"firstName\"]} {aStudent[\"lastName\"]} should succeed with a HTTP response code of 200\\n',\n",
    "     getJson('students', method='post', postData=aStudent))"
   ]
  },
  {
   "cell_type": "code",
   "execution_count": 12,
   "metadata": {
    "editable": false,
    "execution": {},
    "slideshow": {
     "slide_type": "slide"
    }
   },
   "outputs": [
    {
     "name": "stdout",
     "output_type": "stream",
     "text": [
      "http response = 200\n",
      "{'lastName': 'Majikes', 'firstName': 'John', 'id': '/students/150'}\n",
      "Q3. Insert a new student appears correct\n"
     ]
    },
    {
     "name": "stderr",
     "output_type": "stream",
     "text": [
      "127.0.0.1 - - [23/Mar/2023 13:16:41] \"post /students HTTP/1.1\" 200 64\n"
     ]
    }
   ],
   "source": [
    "# You cannot and should not update this cell\n",
    "\n",
    "\n",
    "resetDB()\n",
    "aStudent = { \"lastName\": \"Majikes\", \"firstName\": \"John\" }\n",
    "check('Q3. Insert a new student', \n",
    "      getJson('students', method='post', postData=aStudent))"
   ]
  },
  {
   "cell_type": "markdown",
   "metadata": {
    "editable": false,
    "slideshow": {
     "slide_type": "slide"
    }
   },
   "source": [
    "### Q4. PUT /students/1 update a student\n",
    "\n",
    "Update the name of an existing student. The PUT body will be json like this:\n",
    "```\n",
    "{\n",
    "    \"lastName\": \"Majikes\",\n",
    "    \"firstName\": \"John\"\n",
    "}\n",
    "```\n",
    "Return a 204 response on success and 404 on failure."
   ]
  },
  {
   "cell_type": "code",
   "execution_count": 13,
   "metadata": {
    "execution": {},
    "slideshow": {
     "slide_type": "slide"
    }
   },
   "outputs": [
    {
     "name": "stdout",
     "output_type": "stream",
     "text": [
      "http response = 204\n",
      "Update a student should succeed with a HTTP response code of 204 204\n",
      "http response = 404\n",
      "A bogus student should fail with a HTTP response code of 404 404\n"
     ]
    },
    {
     "name": "stderr",
     "output_type": "stream",
     "text": [
      "127.0.0.1 - - [23/Mar/2023 13:16:41] \"put /students/1 HTTP/1.1\" 204 0\n",
      "127.0.0.1 - - [23/Mar/2023 13:16:41] \"put /students/999 HTTP/1.1\" 404 0\n"
     ]
    }
   ],
   "source": [
    "@app.route('/students/<sid>', method='put')\n",
    "def updateStudent(sid):\n",
    "    \"\"\"Update student info\"\"\"\n",
    "    with connect(dbName) as conn:\n",
    "        body = bottle.request.json\n",
    "        # write your code here\n",
    "        cursor = conn.execute('''SELECT S.sid\n",
    "                                    FROM Students AS S\n",
    "                                    WHERE S.sid=%s''' % (sid)).fetchall()\n",
    "        if not cursor:\n",
    "            return bottle.HTTPResponse(status=404)\n",
    "        cursor=conn.execute('''UPDATE Students\n",
    "                                    SET fname=?, lname=?\n",
    "                                    WHERE sid=?''',(body['firstName'], body['lastName'], sid,))\n",
    "        return bottle.HTTPResponse(status=204)\n",
    "\n",
    "resetDB()\n",
    "aStudent = { \"lastName\": \"Majikes\", \"firstName\": \"John\" }\n",
    "print(\"Update a student should succeed with a HTTP response code of 204\",\n",
    "      getJson('students', 1, method='put', postData=aStudent))\n",
    "print(\"A bogus student should fail with a HTTP response code of 404\",\n",
    "      getJson('students', 999, method='put', postData=aStudent))"
   ]
  },
  {
   "cell_type": "code",
   "execution_count": 14,
   "metadata": {
    "editable": false,
    "execution": {},
    "slideshow": {
     "slide_type": "slide"
    }
   },
   "outputs": [
    {
     "name": "stdout",
     "output_type": "stream",
     "text": [
      "http response = 204\n",
      "Q4. Update a student appears correct\n",
      "http response = 404\n",
      "Q4. Update a bogus student appears correct\n"
     ]
    },
    {
     "name": "stderr",
     "output_type": "stream",
     "text": [
      "127.0.0.1 - - [23/Mar/2023 13:16:42] \"put /students/1 HTTP/1.1\" 204 0\n",
      "127.0.0.1 - - [23/Mar/2023 13:16:42] \"put /students/999 HTTP/1.1\" 404 0\n"
     ]
    }
   ],
   "source": [
    "# You should not and cannot edit this cell\n",
    "\n",
    "\n",
    "resetDB()\n",
    "aStudent = { \"lastName\": \"Majikes\", \"firstName\": \"John\" }\n",
    "check('Q4. Update a student', getJson('students', 1, method='put', postData=aStudent))\n",
    "check('Q4. Update a bogus student', getJson('students', 999, method='put', postData=aStudent))"
   ]
  },
  {
   "cell_type": "markdown",
   "metadata": {
    "editable": false,
    "slideshow": {
     "slide_type": "slide"
    }
   },
   "source": [
    "### Q5. GET /classes Return list of classes\n",
    "\n",
    "Return an object with single key `classes` and value list of objects in class id order like this:\n",
    "```\n",
    "{ \"classes\": [\n",
    "    {\n",
    "        \"id\": \"http://localhost:8080/classes/123\",\n",
    "        \"name\": \"Biology\",\n",
    "        \"number\": \"345\"\n",
    "    }\n",
    "  ]\n",
    "}\n",
    "```"
   ]
  },
  {
   "cell_type": "code",
   "execution_count": 15,
   "metadata": {
    "execution": {},
    "slideshow": {
     "slide_type": "slide"
    }
   },
   "outputs": [
    {
     "name": "stdout",
     "output_type": "stream",
     "text": [
      "http response = 200\n",
      "{'classes': [{'id': '/classes/0',\n",
      "   'name': 'Principles of Biology',\n",
      "   'number': '101'},\n",
      "  {'id': '/classes/1',\n",
      "   'name': 'Molecular Biology and Genetics',\n",
      "   'number': '202'},\n",
      "  {'id': '/classes/2', 'name': 'Biotransport', 'number': '315'},\n",
      "  {'id': '/classes/3', 'name': 'Biomedical Solid Mechanics', 'number': '345'},\n",
      "  {'id': '/classes/4',\n",
      "   'name': 'Principles of Statistical Inference',\n",
      "   'number': '600'},\n",
      "  {'id': '/classes/5',\n",
      "   'name': 'Introduction to Organic Chemistry I',\n",
      "   'number': '261'},\n",
      "  {'id': '/classes/6',\n",
      "   'name': 'Introduction to Polymer Chemistry',\n",
      "   'number': '420'},\n",
      "  {'id': '/classes/7', 'name': 'Compliers', 'number': '520'},\n",
      "  ...]}\n",
      "A list of the classes is  {'classes': [{'id': '/classes/0', 'name': 'Principles of Biology', 'number': '101'}, {'id': '/classes/1', 'name': 'Molecular Biology and Genetics', 'number': '202'}, {'id': '/classes/2', 'name': 'Biotransport', 'number': '315'}, {'id': '/classes/3', 'name': 'Biomedical Solid Mechanics', 'number': '345'}, {'id': '/classes/4', 'name': 'Principles of Statistical Inference', 'number': '600'}, {'id': '/classes/5', 'name': 'Introduction to Organic Chemistry I', 'number': '261'}, {'id': '/classes/6', 'name': 'Introduction to Polymer Chemistry', 'number': '420'}, {'id': '/classes/7', 'name': 'Compliers', 'number': '520'}, {'id': '/classes/8', 'name': 'Files and Databases', 'number': '421'}, {'id': '/classes/9', 'name': 'Digital Logic and Computer Design', 'number': '541'}, {'id': '/classes/10', 'name': 'Parallel and Distributed Computing', 'number': '633'}, {'id': '/classes/11', 'name': 'Algorithms and Analysis', 'number': '550'}, {'id': '/classes/12', 'name': 'Introduction to Economics', 'number': '101'}, {'id': '/classes/13', 'name': 'Game Theory', 'number': '411'}, {'id': '/classes/14', 'name': 'Intermediate Theory: Money, Income, and Employment', 'number': '420'}, {'id': '/classes/15', 'name': 'Film and Media Culture', 'number': '144'}, {'id': '/classes/16', 'name': 'African Art and Culture', 'number': '211'}, {'id': '/classes/17', 'name': 'Linear Algebra for Applications', 'number': '547'}, {'id': '/classes/18', 'name': 'Scientific Computation I', 'number': '661'}, {'id': '/classes/19', 'name': 'Theory I', 'number': '131'}, {'id': '/classes/20', 'name': 'Introduction to Mathematical Logic', 'number': '155'}, {'id': '/classes/21', 'name': 'Critical Issues in Western Religious Thought', 'number': '163'}, {'id': '/classes/22', 'name': 'Sex and Gender in Society', 'number': '124'}, {'id': '/classes/23', 'name': 'Stochastic Modeling', 'number': '445'}, {'id': '/classes/24', 'name': 'Introduction to Probability', 'number': '435'}, {'id': '/classes/25', 'name': 'Introduction to Scientific Programming', 'number': '116'}]}\n"
     ]
    },
    {
     "name": "stderr",
     "output_type": "stream",
     "text": [
      "127.0.0.1 - - [23/Mar/2023 13:16:42] \"get /classes HTTP/1.1\" 200 1942\n"
     ]
    }
   ],
   "source": [
    "@app.route('/classes')\n",
    "def listClasses():\n",
    "    \"\"\"Return a list of classes\"\"\"\n",
    "    # write your code here\n",
    "    with connect(dbName) as conn:\n",
    "        cursor = conn.execute('''SELECT C.cid, C.name, C.number\n",
    "                                    FROM Courses AS C\n",
    "                                    ORDER BY C.cid''')\n",
    "        result = [ {\"id\": makeURL('classes', cid), \"name\": name, \"number\": number} \n",
    "                 for cid, name, number in cursor.fetchall() ]\n",
    "        return {'classes': result}\n",
    "resetDB()\n",
    "print('A list of the classes is ', getJson('classes'))"
   ]
  },
  {
   "cell_type": "code",
   "execution_count": 16,
   "metadata": {
    "editable": false,
    "execution": {},
    "slideshow": {
     "slide_type": "slide"
    }
   },
   "outputs": [
    {
     "name": "stdout",
     "output_type": "stream",
     "text": [
      "http response = 200\n",
      "{'classes': [{'id': '/classes/0',\n",
      "   'name': 'Principles of Biology',\n",
      "   'number': '101'},\n",
      "  {'id': '/classes/1',\n",
      "   'name': 'Molecular Biology and Genetics',\n",
      "   'number': '202'},\n",
      "  {'id': '/classes/2', 'name': 'Biotransport', 'number': '315'},\n",
      "  {'id': '/classes/3', 'name': 'Biomedical Solid Mechanics', 'number': '345'},\n",
      "  {'id': '/classes/4',\n",
      "   'name': 'Principles of Statistical Inference',\n",
      "   'number': '600'},\n",
      "  {'id': '/classes/5',\n",
      "   'name': 'Introduction to Organic Chemistry I',\n",
      "   'number': '261'},\n",
      "  {'id': '/classes/6',\n",
      "   'name': 'Introduction to Polymer Chemistry',\n",
      "   'number': '420'},\n",
      "  {'id': '/classes/7', 'name': 'Compliers', 'number': '520'},\n",
      "  ...]}\n",
      "Q5. List classes appears correct\n"
     ]
    },
    {
     "name": "stderr",
     "output_type": "stream",
     "text": [
      "127.0.0.1 - - [23/Mar/2023 13:16:42] \"get /classes HTTP/1.1\" 200 1942\n"
     ]
    }
   ],
   "source": [
    "# You cannot and should not update this cell\n",
    "\n",
    "resetDB()\n",
    "check('Q5. List classes', getJson('classes'), points=5)"
   ]
  },
  {
   "cell_type": "markdown",
   "metadata": {
    "editable": false,
    "slideshow": {
     "slide_type": "slide"
    }
   },
   "source": [
    "### Q6. GET /classes/123 Return class info\n",
    "\n",
    "Return info on a specific class; 404 if it doesn't exist. The result should look like this:\n",
    "\n",
    "```json\n",
    "{\n",
    "    \"id\": \"http://127.0.0.1:8080/classes/1\",\n",
    "    \"name\": \"Molecular Biology and Genetics\",\n",
    "    \"department\": \"BIOL\",\n",
    "    \"number\": 123,\n",
    "    \"credit\": 3,\n",
    "    \"enrollment\": 23\n",
    "}\n",
    "```"
   ]
  },
  {
   "cell_type": "code",
   "execution_count": 17,
   "metadata": {
    "execution": {},
    "slideshow": {
     "slide_type": "slide"
    }
   },
   "outputs": [
    {
     "name": "stdout",
     "output_type": "stream",
     "text": [
      "http response = 200\n",
      "{'id': '/classes/1',\n",
      " 'name': 'Molecular Biology and Genetics',\n",
      " 'department': 'BIOL',\n",
      " 'number': '202',\n",
      " 'credit': 4,\n",
      " 'enrollment': 25}\n",
      "This call should return class cid=1  {'id': '/classes/1', 'name': 'Molecular Biology and Genetics', 'department': 'BIOL', 'number': '202', 'credit': 4, 'enrollment': 25}\n",
      "http response = 404\n",
      "This call should return a HTTP response code of 404 because 999 is a bogus class 404\n"
     ]
    },
    {
     "name": "stderr",
     "output_type": "stream",
     "text": [
      "127.0.0.1 - - [23/Mar/2023 13:16:43] \"get /classes/1 HTTP/1.1\" 200 123\n",
      "127.0.0.1 - - [23/Mar/2023 13:16:43] \"get /classes/999 HTTP/1.1\" 404 0\n"
     ]
    }
   ],
   "source": [
    "@app.route('/classes/<cid>')\n",
    "def classInfo(cid):\n",
    "    \"\"\"Return info on a single class\"\"\"\n",
    "    # write your code here\n",
    "    with connect(dbName) as conn:\n",
    "        cursor = conn.execute('''SELECT C.cid, C.name, C.department, C.number, C.credit_hours, COUNT(E.sid)\n",
    "                                    FROM Courses AS C, Enrolled_in AS E, Students AS S\n",
    "                                    WHERE E.sid = S.sid\n",
    "                                    AND E.cid = C.cid\n",
    "                                    AND C.cid=%s\n",
    "                                    GROUP BY C.cid''' % (cid)).fetchone()\n",
    "        if not cursor:\n",
    "            return bottle.HTTPResponse(status=404)\n",
    "        result = {\"id\": makeURL('classes', cursor[0]), \"name\": cursor[1], \"department\": cursor[2], \"number\": cursor[3], \n",
    "                  \"credit\": cursor[4], \"enrollment\": cursor[5]}\n",
    "        return result\n",
    "\n",
    "resetDB()\n",
    "print('This call should return class cid=1 ', \n",
    "      getJson('classes', 1))\n",
    "print('This call should return a HTTP response code of 404 because 999 is a bogus class',\n",
    "      getJson('classes', 999))"
   ]
  },
  {
   "cell_type": "code",
   "execution_count": 18,
   "metadata": {
    "editable": false,
    "execution": {},
    "slideshow": {
     "slide_type": "slide"
    }
   },
   "outputs": [
    {
     "name": "stdout",
     "output_type": "stream",
     "text": [
      "http response = 200\n",
      "{'id': '/classes/1',\n",
      " 'name': 'Molecular Biology and Genetics',\n",
      " 'department': 'BIOL',\n",
      " 'number': '202',\n",
      " 'credit': 4,\n",
      " 'enrollment': 25}\n",
      "Q6. get class info appears correct\n",
      "http response = 404\n",
      "Q6. get bogus class info appears correct\n"
     ]
    },
    {
     "name": "stderr",
     "output_type": "stream",
     "text": [
      "127.0.0.1 - - [23/Mar/2023 13:16:44] \"get /classes/1 HTTP/1.1\" 200 123\n",
      "127.0.0.1 - - [23/Mar/2023 13:16:44] \"get /classes/999 HTTP/1.1\" 404 0\n"
     ]
    }
   ],
   "source": [
    "# You cannot and should not update this cell\n",
    "\n",
    "resetDB()\n",
    "check('Q6. get class info', getJson('classes', 1), points=5)\n",
    "check('Q6. get bogus class info', getJson('classes', 999), points=5)\n"
   ]
  },
  {
   "cell_type": "markdown",
   "metadata": {
    "editable": false,
    "slideshow": {
     "slide_type": "slide"
    }
   },
   "source": [
    "### Q8. PUT /classes/123/students/1  Add student 1 to class 123\n",
    "\n",
    "**Note:** there is no Q7\n",
    "\n",
    "A [PUT](https://tools.ietf.org/html/rfc7231#section-4.3.4) request to a URL like `/classes/<cid>/students/<sid>` should add the student to the class. It should return status 204 if the student was added, 404 if the student or class id is invalid, or 409 if the student is already in the class."
   ]
  },
  {
   "cell_type": "code",
   "execution_count": 19,
   "metadata": {
    "execution": {},
    "slideshow": {
     "slide_type": "slide"
    }
   },
   "outputs": [
    {
     "name": "stdout",
     "output_type": "stream",
     "text": [
      "http response = 409\n",
      "This add student sid=1 to class cid=2 should fail. HTTP Response 409 409\n",
      "http response = 409\n",
      "This add should fail as it is a duplicate.  HTTP Response 409 409\n",
      "http response = 404\n",
      "This add should return 404 as the cid is invalid. HTTP Response 404  404\n",
      "http response = 404\n",
      "This add should return 404 as the sid is invalid. HTTP Response 404 404\n"
     ]
    },
    {
     "name": "stderr",
     "output_type": "stream",
     "text": [
      "127.0.0.1 - - [23/Mar/2023 13:16:45] \"put /classes/2/students/1 HTTP/1.1\" 409 0\n",
      "127.0.0.1 - - [23/Mar/2023 13:16:45] \"put /classes/2/students/1 HTTP/1.1\" 409 0\n",
      "127.0.0.1 - - [23/Mar/2023 13:16:45] \"put /classes/999/students/1 HTTP/1.1\" 404 0\n",
      "127.0.0.1 - - [23/Mar/2023 13:16:45] \"put /classes/1/students/999 HTTP/1.1\" 404 0\n"
     ]
    }
   ],
   "source": [
    "@app.route('/classes/<cid>/students/<sid>', method=\"put\")\n",
    "def addStudentToClass(cid, sid):\n",
    "    \"\"\"Add student to class\"\"\"\n",
    "    # write your code here\n",
    "    with connect(dbName) as conn:\n",
    "        scursor = conn.execute('''SELECT sid\n",
    "                                    FROM Students\n",
    "                                    WHERE sid=%s''' % (sid)).fetchall()\n",
    "        ccursor = conn.execute('''SELECT cid\n",
    "                                    FROM Courses\n",
    "                                    WHERE cid=%s''' % (cid)).fetchall()\n",
    "        if not scursor or not ccursor:\n",
    "            return bottle.HTTPResponse(status=404)\n",
    "        cursor = conn.execute('''SELECT S.sid, C.cid\n",
    "                                    FROM Students AS S, Courses AS C, Enrolled_in AS E\n",
    "                                    WHERE E.sid = S.sid\n",
    "                                    AND E.cid = C.cid\n",
    "                                    AND S.sid=%s\n",
    "                                    AND C.cid=%s''' % (sid, cid)).fetchall()\n",
    "        if cursor:\n",
    "            return bottle.HTTPResponse(status=409)\n",
    "        cursor = conn.execute('''INSERT INTO Enrolled_in(sid, cid)\n",
    "                                    VALUES (%s, %s)''' % (sid, cid))\n",
    "        return bottle.HTTPResponse(status=204)\n",
    "        \n",
    "\n",
    "resetDB()\n",
    "print('This add student sid=1 to class cid=2 should fail. HTTP Response 409',\n",
    "      getJson('classes', 2, 'students', 1, method=\"put\"))\n",
    "print('This add should fail as it is a duplicate.  HTTP Response 409',\n",
    "      getJson('classes', 2, 'students', 1, method=\"put\"))\n",
    "print('This add should return 404 as the cid is invalid. HTTP Response 404 ',\n",
    "      getJson('classes', 999, 'students', 1, method=\"put\"))\n",
    "print('This add should return 404 as the sid is invalid. HTTP Response 404',\n",
    "      getJson('classes', 1, 'students', 999, method=\"put\"))"
   ]
  },
  {
   "cell_type": "code",
   "execution_count": 20,
   "metadata": {
    "editable": false,
    "execution": {},
    "slideshow": {
     "slide_type": "slide"
    }
   },
   "outputs": [
    {
     "name": "stdout",
     "output_type": "stream",
     "text": [
      "http response = 204\n",
      "Q8. add class appears correct\n",
      "http response = 409\n",
      "Q8. add class again appears correct\n",
      "http response = 404\n",
      "Q8. add bogus class appears correct\n",
      "http response = 404\n",
      "Q8. add bogus student appears correct\n"
     ]
    },
    {
     "name": "stderr",
     "output_type": "stream",
     "text": [
      "127.0.0.1 - - [23/Mar/2023 13:16:45] \"put /classes/5/students/1 HTTP/1.1\" 204 0\n",
      "127.0.0.1 - - [23/Mar/2023 13:16:45] \"put /classes/5/students/1 HTTP/1.1\" 409 0\n",
      "127.0.0.1 - - [23/Mar/2023 13:16:45] \"put /classes/999/students/1 HTTP/1.1\" 404 0\n",
      "127.0.0.1 - - [23/Mar/2023 13:16:45] \"put /classes/1/students/999 HTTP/1.1\" 404 0\n"
     ]
    }
   ],
   "source": [
    "# You cannot and should not update this cell\n",
    "\n",
    "\n",
    "resetDB()\n",
    "check('Q8. add class', getJson('classes', 5, 'students', 1, method=\"put\"), points=8)\n",
    "check('Q8. add class again', getJson('classes', 5, 'students', 1, method=\"put\"), points=10)\n",
    "check('Q8. add bogus class', getJson('classes', 999, 'students', 1, method=\"put\"), points=10)\n",
    "check('Q8. add bogus student', getJson('classes', 1, 'students', 999, method=\"put\"), points=10)"
   ]
  },
  {
   "cell_type": "markdown",
   "metadata": {
    "editable": false,
    "slideshow": {
     "slide_type": "slide"
    }
   },
   "source": [
    "### Q10. DELETE /classes/123/1  Drop student 1 from class 123\n",
    "\n",
    "**NOTE:** there is no Q9\n",
    "\n",
    "A [DELETE](https://tools.ietf.org/html/rfc7231#section-4.3.5) request to a URL like `/classes/<cid>/<sid>` should drop the student from the class. It should return status 204 if the student was dropped, or 404 if the student or class id is invalid."
   ]
  },
  {
   "cell_type": "code",
   "execution_count": 21,
   "metadata": {
    "execution": {},
    "slideshow": {
     "slide_type": "slide"
    }
   },
   "outputs": [
    {
     "name": "stdout",
     "output_type": "stream",
     "text": [
      "http response = 204\n",
      "The delete of student cid=1 sid=1 is 204  and should be a 204\n",
      "http response = 404\n",
      "The second delete of student cid=1 sid=1 is 404  and should be 404 as the student no longer exists\n",
      "http response = 404\n",
      "The delete of student cid=999 sid=1 is 404  and should be 404 because the class does not exist\n",
      "http response = 404\n",
      "The delete of student cid=1 sid=999 is  404  and should be 404 because the student does not exist\n"
     ]
    },
    {
     "name": "stderr",
     "output_type": "stream",
     "text": [
      "127.0.0.1 - - [23/Mar/2023 13:16:46] \"delete /classes/1/students/1 HTTP/1.1\" 204 0\n",
      "127.0.0.1 - - [23/Mar/2023 13:16:46] \"delete /classes/1/students/1 HTTP/1.1\" 404 0\n",
      "127.0.0.1 - - [23/Mar/2023 13:16:46] \"delete /classes/999/students/1 HTTP/1.1\" 404 0\n",
      "127.0.0.1 - - [23/Mar/2023 13:16:46] \"delete /classes/1/students/999 HTTP/1.1\" 404 0\n"
     ]
    }
   ],
   "source": [
    "@app.route('/classes/<cid>/students/<sid>', method=\"delete\")\n",
    "def dropStudentFromClass(cid, sid):\n",
    "    \"\"\"Drop student from class\"\"\"\n",
    "    # write your code here\n",
    "    with connect(dbName) as conn:\n",
    "        scursor = conn.execute('''SELECT sid\n",
    "                                    FROM Students\n",
    "                                    WHERE sid=%s''' % (sid)).fetchall()\n",
    "        ccursor = conn.execute('''SELECT cid\n",
    "                                    FROM Courses\n",
    "                                    WHERE cid=%s''' % (cid)).fetchall()\n",
    "        ecursor = conn.execute('''SELECT S.sid, C.cid\n",
    "                                    FROM Students AS S, Courses AS C, Enrolled_in AS E\n",
    "                                    WHERE S.sid = E.sid\n",
    "                                    AND C.cid = E.cid\n",
    "                                    AND S.sid=%s\n",
    "                                    AND C.cid=%s''' % (sid, cid)).fetchall()\n",
    "        if not scursor or not ccursor or not ecursor:\n",
    "            return bottle.HTTPResponse(status=404)\n",
    "        cursor = conn.execute('''DELETE FROM Enrolled_in\n",
    "                                    WHERE sid=%s\n",
    "                                    AND cid=%s''' % (sid, cid))\n",
    "        return bottle.HTTPResponse(status=204)\n",
    "    \n",
    "resetDB()\n",
    "\n",
    "# this should succeed\n",
    "print('The delete of student cid=1 sid=1 is',\n",
    "      getJson('classes', 1, 'students', 1, method=\"delete\"),\n",
    "      ' and should be a 204')\n",
    "# this should fail because the student is no longer in the class\n",
    "print('The second delete of student cid=1 sid=1 is',\n",
    "      getJson('classes', 1, 'students', 1, method=\"delete\"),\n",
    "      ' and should be 404 as the student no longer exists')\n",
    "# this should fail because the class doesn't exist\n",
    "print('The delete of student cid=999 sid=1 is',\n",
    "      getJson('classes', 999, 'students', 1, method=\"delete\"),\n",
    "      ' and should be 404 because the class does not exist')\n",
    "# this should fail because the student doesn't exist\n",
    "print('The delete of student cid=1 sid=999 is ',\n",
    "      getJson('classes', 1, 'students', 999, method=\"delete\"),\n",
    "      ' and should be 404 because the student does not exist')"
   ]
  },
  {
   "cell_type": "code",
   "execution_count": 22,
   "metadata": {
    "editable": false,
    "execution": {},
    "slideshow": {
     "slide_type": "slide"
    }
   },
   "outputs": [
    {
     "name": "stdout",
     "output_type": "stream",
     "text": [
      "http response = 204\n",
      "Q10. drop class appears correct\n",
      "http response = 404\n",
      "Q10. drop class again appears correct\n",
      "http response = 404\n",
      "Q10. drop bogus class appears correct\n",
      "http response = 404\n",
      "Q10. drop bogus student appears correct\n"
     ]
    },
    {
     "name": "stderr",
     "output_type": "stream",
     "text": [
      "127.0.0.1 - - [23/Mar/2023 13:16:46] \"delete /classes/1/students/1 HTTP/1.1\" 204 0\n",
      "127.0.0.1 - - [23/Mar/2023 13:16:46] \"delete /classes/1/students/1 HTTP/1.1\" 404 0\n",
      "127.0.0.1 - - [23/Mar/2023 13:16:46] \"delete /classes/999/students/1 HTTP/1.1\" 404 0\n",
      "127.0.0.1 - - [23/Mar/2023 13:16:46] \"delete /classes/1/students/999 HTTP/1.1\" 404 0\n"
     ]
    }
   ],
   "source": [
    "# You can not and should not update this cell.\n",
    "\n",
    "resetDB()\n",
    "\n",
    "# this should succeed\n",
    "check('Q10. drop class', getJson('classes', 1, 'students', 1, method=\"delete\"), points=10)\n",
    "# this should fail because the student is no longer in the class\n",
    "check('Q10. drop class again', getJson('classes', 1, 'students', 1, method=\"delete\"), points=10)\n",
    "# this should fail because the class doesn't exist\n",
    "check('Q10. drop bogus class', getJson('classes', 999, 'students', 1, method=\"delete\"), points=10)\n",
    "# this should fail because the student doesn't exist\n",
    "check('Q10. drop bogus student', getJson('classes', 1, 'students', 999, method=\"delete\"), points=10)"
   ]
  },
  {
   "cell_type": "markdown",
   "metadata": {
    "editable": false,
    "slideshow": {
     "slide_type": "slide"
    }
   },
   "source": [
    "# Submit your work\n",
    "\n",
    "Enter your onyen and collaborators below and then run the cell. You'll get the usual submit button."
   ]
  },
  {
   "cell_type": "code",
   "execution_count": 23,
   "metadata": {
    "deletable": false,
    "editable": false,
    "execution": {},
    "slideshow": {
     "slide_type": "slide"
    }
   },
   "outputs": [
    {
     "name": "stdout",
     "output_type": "stream",
     "text": [
      "  Collaborators: ['sanjanam', 'namitak']\n",
      "Report for mkrishn\n",
      "  21 of 21 appear correct, 100 of 100 points\n"
     ]
    }
   ],
   "source": [
    "# You cannot and should not update this cell\n",
    "# This cell will produce a summary report of your assignment\n",
    "if Author == 'youronyen' or Collaborators ==  ['list', 'their', 'onyens', 'here']:\n",
    "    print(\"You didn't fill out cell 2!\")\n",
    "    Author = 'John Majikes gets all the points'\n",
    "    Collaborators = ['John', 'Paul', 'George', 'and', 'Ringo']\n",
    "assert Author != 'youronyen'\n",
    "assert Collaborators != ['list', 'their', 'onyens', 'here']\n",
    "report(Author, Collaborators)"
   ]
  },
  {
   "cell_type": "markdown",
   "metadata": {
    "editable": false,
    "slideshow": {
     "slide_type": "slide"
    }
   },
   "source": [
    "## Done!\n",
    "<img src=\"https://comp421.cs.unc.edu/static/images/restartAndClearOutput.png\" width=\"300\" style=\"float: right\" />\n",
    "\n",
    "Now go back, restart the kernel (menu <font color=\"green\">Kernel</font>-><font color=\"green\">Restart and Clear</font>), and then Shift-Enter your way through the notebook to run all the cells again so you an be sure all your code will work as you expect during grading."
   ]
  },
  {
   "cell_type": "markdown",
   "metadata": {
    "editable": false,
    "slideshow": {
     "slide_type": "slide"
    }
   },
   "source": [
    "## Saving your work\n",
    "<img src=\"https://comp421.cs.unc.edu/static/images/saveAndCheckpoint.png\" width=\"300\" style=\"float: right\" />\n",
    "\n",
    "Now save your work by going to (menu <font color='green'>File</font>-><font color='green'>Save and Checkpoint</font>)"
   ]
  },
  {
   "cell_type": "markdown",
   "metadata": {
    "editable": false,
    "slideshow": {
     "slide_type": "slide"
    }
   },
   "source": [
    "## Submit your notebook\n",
    "\n",
    "After saving, restarting the kernel, and verifying your report,\n",
    "you can submit your notebook.\n",
    "Go to https://comp421.cs.unc.edu/notebook\n",
    "\n",
    "\n",
    "Note that if you actually saved your work you should not see the leaving site message below.\n",
    "If you do see the `Leave Site` warning, cancel and save your work again.\n",
    "<br />\n",
    "<img src=\"https://comp421.cs.unc.edu/static/images/leaveSite.png\" width=\"300\" style=\"float: left\" />"
   ]
  }
 ],
 "metadata": {
  "kernelspec": {
   "display_name": "Python 3 (ipykernel)",
   "language": "python",
   "name": "python3"
  },
  "language_info": {
   "codemirror_mode": {
    "name": "ipython",
    "version": 3
   },
   "file_extension": ".py",
   "mimetype": "text/x-python",
   "name": "python",
   "nbconvert_exporter": "python",
   "pygments_lexer": "ipython3",
   "version": "3.9.13"
  },
  "rise": {
   "enable_chalkboard": true,
   "scroll": true,
   "theme": "comp116"
  },
  "toc": {
   "base_numbering": 1,
   "nav_menu": {},
   "number_sections": true,
   "sideBar": true,
   "skip_h1_title": false,
   "title_cell": "Table of Contents",
   "title_sidebar": "Contents",
   "toc_cell": false,
   "toc_position": {},
   "toc_section_display": true,
   "toc_window_display": false
  }
 },
 "nbformat": 4,
 "nbformat_minor": 2
}
