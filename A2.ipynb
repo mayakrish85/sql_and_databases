{
 "cells": [
  {
   "cell_type": "markdown",
   "metadata": {
    "editable": false,
    "slideshow": {
     "slide_type": "slide"
    }
   },
   "source": [
    "# COMP 421 Fall 2022 Assignment 2\n",
    "\n",
    "<img src=\"https://comp421.cs.unc.edu/static/images/COMP421Logo.png\" \n",
    "     align=\"right\" style=\"display:inline; width:100px; \">\n",
    "\n",
    "Answer each question below by filling in code at the point indicated.\n",
    "Do not modify any cells that say <font color=\"red\">\"You cannot and should not update this cell\"!</font>\n",
    "\n",
    "You __<font color=\"red\">must</font>__ run the cells in order. It looks like you can come back later after restarting and pick up where you left off but that is not the case. When restarting you always have to start at the top of the notebook and run each cell in turn. \n",
    "\n",
    "The data supplied to you in this assignment will be graded with slightly different data.\n",
    "For example, if a question asks you to create a list of names from the \n",
    "database and your code simply sets the list to the answers without \n",
    "querying the database, your answer will not be accepted by the grader."
   ]
  },
  {
   "cell_type": "code",
   "execution_count": 1,
   "metadata": {
    "execution": {},
    "slideshow": {
     "slide_type": "slide"
    }
   },
   "outputs": [
    {
     "data": {
      "application/javascript": [
       "IPython.notebook.set_autosave_interval(15000)"
      ]
     },
     "metadata": {},
     "output_type": "display_data"
    },
    {
     "name": "stdout",
     "output_type": "stream",
     "text": [
      "Autosaving every 15 seconds\n"
     ]
    }
   ],
   "source": [
    "# You cannot and should not update this cell\n",
    "# setup\n",
    "%autosave 15\n",
    "import sqlite3\n",
    "conn = sqlite3.connect('basketball.sqlite')\n",
    "cursor = conn.cursor()\n",
    "cursor.execute('PRAGMA foreign_keys = ON')\n",
    "\n",
    "import comp421\n",
    "check, report = comp421.start('A2')"
   ]
  },
  {
   "cell_type": "code",
   "execution_count": 2,
   "metadata": {
    "execution": {},
    "slideshow": {
     "slide_type": "slide"
    }
   },
   "outputs": [],
   "source": [
    "# fill in your info here\n",
    "Author = \"mkrishn\"\n",
    "Collaborators = [\"sarsimha\"]"
   ]
  },
  {
   "cell_type": "code",
   "execution_count": 3,
   "metadata": {
    "editable": false,
    "execution": {},
    "slideshow": {
     "slide_type": "slide"
    }
   },
   "outputs": [
    {
     "name": "stdout",
     "output_type": "stream",
     "text": [
      "Author appears correct\n",
      "Collaborators appears correct\n"
     ]
    }
   ],
   "source": [
    "# You cannot and should not update this cell\n",
    "check('Author', Author != 'youronyen', points=1, sort=True)\n",
    "check('Collaborators', Collaborators != ['list', 'their', 'onyens', 'here'], points=1, sort=True)"
   ]
  },
  {
   "cell_type": "markdown",
   "metadata": {
    "editable": false,
    "slideshow": {
     "slide_type": "slide"
    }
   },
   "source": [
    "<img src=\"https://www.kaggle.com/static/images/site-logo.svg\" width=\"200\" style=\"float: right\"/>\n",
    "\n",
    "The database we'll be using in `A2-basketball.sqlite`.\n",
    "It is my attempt to get as much information from college basketball in one place.\n",
    "The information was taken from [kaggle.com college-basketball-dataset](https://www.kaggle.com/datasets/andrewsundberg/college-basketball-dataset) which\n",
    "is a sports statistics and analytics website with no direct affiliation to the NCAA, its member conferences, or its member teams.\n",
    "\n",
    "<p/>\n",
    "If there are mistakes in the data, it's all my fault.\n",
    "This is **not** an official database.\n",
    "\n",
    "This database has the following schema:\n",
    "```\n",
    "CREATE TABLE Locations\n",
    "    (location_id INTEGER PRIMARY KEY AUTOINCREMENT,\n",
    "     city TEXT,\n",
    "     state TEXT,\n",
    "     population INTEGER,\n",
    "     UNIQUE (city, state))\n",
    "\n",
    "CREATE TABLE Stadiums\n",
    "   (stadium_id INTEGER PRIMARY KEY AUTOINCREMENT,\n",
    "    name TEXT,\n",
    "    location_id REFERENCES Locations(location_id),\n",
    "    capacity INTEGER,\n",
    "    year_opened INTEGER)\n",
    "\n",
    "CREATE TABLE Conferences\n",
    "   (conference_id INTEGER PRIMARY KEY AUTOINCREMENT,\n",
    "    name TEXT,\n",
    "    short_name TEXT,\n",
    "    year_founded INTEGER,\n",
    "    number_mens_sports INTEGER UNSIGNED,\n",
    "    number_womens_sports INTEGER UNSIGNED,\n",
    "    location_id REFERENCES Locations(location_id), -- headquarter location\n",
    "    UNIQUE(name))\n",
    "\n",
    "CREATE TABLE Teams\n",
    "   (team_id INTEGER PRIMARY KEY AUTOINCREMENT,\n",
    "    name TEXT,\n",
    "    conference_id REFERENCES Conferences(conference_id),\n",
    "    stadium_id REFERENCES Stadiums(stadium_id),\n",
    "    games_played INTEGER, -- # games played in 2020\n",
    "    games_won INTEGER,    -- # games won in 2020\n",
    "    power_rating FLOAT,   -- # Power Rating (Chance of beating an average Division I team)\n",
    "    field_goal_percentage FLOAT,\n",
    "    field_goal_percentage_allowed FLOAT,\n",
    "    turn_over_rate FLOAT,\n",
    "    steal_rate FLOAT,\n",
    "    offensive_rebound_rate FLOAT,\n",
    "    offensive_rebound_rate_allowed FLOAT,\n",
    "    two_point_percentage FLOAT,\n",
    "    two_point_allowed_percentage FLOAT,\n",
    "    three_point_percentage FLOAT,\n",
    "    three_point_allowed_percentage FLOAT,\n",
    "    wins_above_bubble FLOAT)\n",
    "```\n",
    "Write code in the cells below to answer each question."
   ]
  },
  {
   "cell_type": "markdown",
   "metadata": {
    "editable": false,
    "slideshow": {
     "slide_type": "slide"
    }
   },
   "source": [
    "## 1. Find the following using SQL queries"
   ]
  },
  {
   "cell_type": "markdown",
   "metadata": {
    "editable": false,
    "slideshow": {
     "slide_type": "slide"
    }
   },
   "source": [
    "**1a** UNC is known the college basketball database as 'North Carolina'.\n",
    "\n",
    "Set variable `q1a` equal to the stadium name used by UNC basketball."
   ]
  },
  {
   "cell_type": "code",
   "execution_count": 4,
   "metadata": {
    "execution": {},
    "slideshow": {
     "slide_type": "slide"
    }
   },
   "outputs": [
    {
     "name": "stdout",
     "output_type": "stream",
     "text": [
      "The stadium used for basketball for  North Carolina is Dean Smith Center.\n"
     ]
    }
   ],
   "source": [
    "# write your query as a single string here\n",
    "a1a = \"\"\"\n",
    "SELECT Stadiums.name\n",
    "FROM Stadiums, Teams\n",
    "WHERE Stadiums.stadium_id = Teams.stadium_id AND Teams.name = 'North Carolina'\"\"\"\n",
    "\n",
    "# code to execute your query, leave this alone\n",
    "q1a = cursor.execute(a1a).fetchone()[0]\n",
    "print(f'The stadium used for basketball for  North Carolina is {q1a}.')"
   ]
  },
  {
   "cell_type": "code",
   "execution_count": 5,
   "metadata": {
    "editable": false,
    "execution": {},
    "slideshow": {
     "slide_type": "slide"
    }
   },
   "outputs": [
    {
     "name": "stdout",
     "output_type": "stream",
     "text": [
      "1a appears correct\n"
     ]
    }
   ],
   "source": [
    "# you cannot and should not update this cell\n",
    "check('1a', q1a, points=8)"
   ]
  },
  {
   "cell_type": "markdown",
   "metadata": {
    "editable": false,
    "slideshow": {
     "slide_type": "slide"
    }
   },
   "source": [
    "**1b**. According to the college basketball database, how many teams are in the conference have a short named 'ACC'?\n",
    "\n",
    "Set the variable `q1b` equal to the number of teams in the conference named 'ACC'."
   ]
  },
  {
   "cell_type": "code",
   "execution_count": 6,
   "metadata": {
    "execution": {},
    "slideshow": {
     "slide_type": "slide"
    }
   },
   "outputs": [
    {
     "name": "stdout",
     "output_type": "stream",
     "text": [
      "According to the college basketball database there are 15 teams in the ACC basketball conference.\n"
     ]
    }
   ],
   "source": [
    "a1b = \"\"\"\n",
    "SELECT COUNT(Teams.conference_id)\n",
    "FROM Teams, Conferences\n",
    "WHERE Conferences.short_name = \"ACC\" AND Conferences.conference_id = Teams.conference_id\n",
    "\"\"\"\n",
    "\n",
    "# test code\n",
    "q1b = cursor.execute(a1b).fetchone()[0]\n",
    "print(f'According to the college basketball database there are {q1b} teams in the ACC basketball conference.')"
   ]
  },
  {
   "cell_type": "code",
   "execution_count": 7,
   "metadata": {
    "editable": false,
    "execution": {},
    "slideshow": {
     "slide_type": "slide"
    }
   },
   "outputs": [
    {
     "name": "stdout",
     "output_type": "stream",
     "text": [
      "1b appears correct\n"
     ]
    }
   ],
   "source": [
    "# you cannot and should not update this cell\n",
    "check('1b', q1b, points=10)"
   ]
  },
  {
   "cell_type": "markdown",
   "metadata": {
    "editable": false,
    "slideshow": {
     "slide_type": "slide"
    }
   },
   "source": [
    "**1c**. Again, according to the college basketball database,\n",
    "what are the school names of teams in the ACC?\n",
    "\n",
    "Set the variable `q1c` equal to the result of a SQL query that returns a Python list of tuples where the first tuple element is the school name.  The Python list should be in alphabetical order according to school name."
   ]
  },
  {
   "cell_type": "code",
   "execution_count": 8,
   "metadata": {
    "execution": {},
    "slideshow": {
     "slide_type": "slide"
    }
   },
   "outputs": [
    {
     "name": "stdout",
     "output_type": "stream",
     "text": [
      "Boston College is in the ACC\n",
      "Clemson is in the ACC\n",
      "Duke is in the ACC\n",
      "Florida St. is in the ACC\n",
      "Georgia Tech is in the ACC\n",
      "Louisville is in the ACC\n",
      "Miami FL is in the ACC\n",
      "North Carolina is in the ACC\n",
      "North Carolina St. is in the ACC\n",
      "Notre Dame is in the ACC\n",
      "Pittsburgh is in the ACC\n",
      "Syracuse is in the ACC\n",
      "Virginia is in the ACC\n",
      "Virginia Tech is in the ACC\n",
      "Wake Forest is in the ACC\n"
     ]
    }
   ],
   "source": [
    "a1c = \"\"\"\n",
    "SELECT Teams.name\n",
    "FROM Teams, Conferences\n",
    "WHERE Conferences.short_name = \"ACC\" AND Conferences.conference_id = Teams.conference_id\n",
    "ORDER BY Teams.name\n",
    "\"\"\"\n",
    "\n",
    "# test\n",
    "q1c = cursor.execute(a1c).fetchall()\n",
    "for row in q1c:\n",
    "    print(f'{row[0]} is in the ACC')"
   ]
  },
  {
   "cell_type": "code",
   "execution_count": 9,
   "metadata": {
    "editable": false,
    "execution": {},
    "slideshow": {
     "slide_type": "slide"
    }
   },
   "outputs": [
    {
     "name": "stdout",
     "output_type": "stream",
     "text": [
      "1c appears correct\n"
     ]
    }
   ],
   "source": [
    "# you cannot and should not update this cell\n",
    "check('1c', q1c, points=10)"
   ]
  },
  {
   "cell_type": "markdown",
   "metadata": {
    "editable": false,
    "slideshow": {
     "slide_type": "slide"
    }
   },
   "source": [
    "**1d**. What is the stadium name and seating capacity of the UNC basketball team?\n",
    "\n",
    "Write a Python SQL query that returns the stadium name and stadium capacity for UNC and\n",
    "assign it's output to `q1d`."
   ]
  },
  {
   "cell_type": "code",
   "execution_count": 10,
   "metadata": {
    "execution": {},
    "slideshow": {
     "slide_type": "slide"
    }
   },
   "outputs": [
    {
     "name": "stdout",
     "output_type": "stream",
     "text": [
      "UNC uses stadium Dean Smith Center with a capacity of 21750 for home basketball games.\n"
     ]
    }
   ],
   "source": [
    "a1d = \"\"\"\n",
    "SELECT Stadiums.name, Stadiums.capacity\n",
    "FROM Stadiums, Teams\n",
    "WHERE Stadiums.stadium_id = Teams.stadium_id AND Teams.name = \"North Carolina\" \n",
    "\"\"\"\n",
    "q1d = cursor.execute(a1d).fetchone()\n",
    "\n",
    "print(f'UNC uses stadium {q1d[0]} with a capacity of {q1d[1]} for home basketball games.')"
   ]
  },
  {
   "cell_type": "code",
   "execution_count": 11,
   "metadata": {
    "editable": false,
    "execution": {},
    "slideshow": {
     "slide_type": "slide"
    }
   },
   "outputs": [
    {
     "name": "stdout",
     "output_type": "stream",
     "text": [
      "1d appears correct\n"
     ]
    }
   ],
   "source": [
    "# You cannot and should not update this cell\n",
    "check('1d', q1d, points=10)"
   ]
  },
  {
   "cell_type": "markdown",
   "metadata": {
    "editable": false,
    "slideshow": {
     "slide_type": "slide"
    }
   },
   "source": [
    "**1e**. By seating capacity, what is the largest arena in the ACC?\n",
    "\n",
    "Write a Python SQL query that returns the school name, stadium name, and stadium capacity for the\n",
    "school(s) in the ACC with the largest capacity basketball arena?"
   ]
  },
  {
   "cell_type": "code",
   "execution_count": 12,
   "metadata": {
    "execution": {},
    "slideshow": {
     "slide_type": "slide"
    }
   },
   "outputs": [
    {
     "name": "stdout",
     "output_type": "stream",
     "text": [
      "The largest stadium capacity in the ACC is stadium JMA Wireless Dome used by Syracuse with a capacity of 35446\n"
     ]
    }
   ],
   "source": [
    "a1e = \"\"\"\n",
    "SELECT Teams.name, Stadiums.name, MAX(Stadiums.capacity)\n",
    "FROM Stadiums, Teams, Conferences\n",
    "WHERE Teams.stadium_id = Stadiums.stadium_id AND Conferences.conference_id = Teams.conference_id AND Conferences.short_name = \"ACC\";\n",
    "\"\"\"\n",
    "q1e = cursor.execute(a1e).fetchone()\n",
    "\n",
    "print(f'The largest stadium capacity in the ACC is stadium {q1e[1]} used by {q1e[0]} with a capacity of {q1e[2]}')"
   ]
  },
  {
   "cell_type": "code",
   "execution_count": 13,
   "metadata": {
    "editable": false,
    "execution": {},
    "slideshow": {
     "slide_type": "slide"
    }
   },
   "outputs": [
    {
     "name": "stdout",
     "output_type": "stream",
     "text": [
      "1e appears correct\n"
     ]
    }
   ],
   "source": [
    "# You cannot and should not update this cell\n",
    "check('1e', q1e, points=15)"
   ]
  },
  {
   "cell_type": "markdown",
   "metadata": {
    "editable": false,
    "slideshow": {
     "slide_type": "slide"
    }
   },
   "source": [
    "## 2. Fill in the body of the functions below.\n",
    "\n",
    "**2a**. Fill in the code below to make this function return the school name in the `conf_name` parameter's conference that played the least number of games.\n",
    "If multiple schools have the same minimum number of games played, return the school that played the least number of games and appears alphabetically last.\n",
    "\n",
    "**INPUT**: The function will take a parameter `conf_name` which is the abbreviation for the conference name.<br />     \n",
    "**OUTPUT**: The function will return a single string with the school name that of the school that played the least number of games that appears alphabetically last of all the teams that played that number of games for the conference\n"
   ]
  },
  {
   "cell_type": "code",
   "execution_count": 14,
   "metadata": {
    "execution": {},
    "slideshow": {
     "slide_type": "slide"
    }
   },
   "outputs": [
    {
     "name": "stdout",
     "output_type": "stream",
     "text": [
      "Louisville played the least number of games in the ACC\n"
     ]
    }
   ],
   "source": [
    "def f2a(conf_name):\n",
    "    #your code here\n",
    "    sql = '''\n",
    "    SELECT Teams.name\n",
    "    FROM Teams, Conferences\n",
    "    WHERE Teams.games_played = (\n",
    "    SELECT MIN(Teams.games_played)\n",
    "    FROM Teams, Conferences\n",
    "    WHERE Conferences.short_name = '{conf_name}'\n",
    "    AND Conferences.conference_id = Teams.conference_id)\n",
    "    AND Conferences.short_name = '{conf_name}' AND Teams.conference_id = Conferences.conference_id\n",
    "    ORDER BY Teams.name DESC\n",
    "    '''.format(conf_name = conf_name)\n",
    "    \n",
    "    results = cursor.execute(sql).fetchall()\n",
    "    return results[0][0]\n",
    "\n",
    "conf_name = 'ACC'\n",
    "q2a = f2a(conf_name)\n",
    "print(f'{q2a} played the least number of games in the {conf_name}')"
   ]
  },
  {
   "cell_type": "code",
   "execution_count": 15,
   "metadata": {
    "editable": false,
    "execution": {},
    "slideshow": {
     "slide_type": "slide"
    }
   },
   "outputs": [
    {
     "name": "stdout",
     "output_type": "stream",
     "text": [
      "Fordham player the least number of games in the A10 conference\n",
      "2a-1 appears correct\n",
      "Northwestern player the least number of games in the B10 conference\n",
      "2a-2 appears correct\n",
      "Iowa St. player the least number of games in the B12 conference\n",
      "2a-3 appears correct\n",
      "Louisville player the least number of games in the ACC conference\n",
      "2a-4 appears correct\n",
      "Coastal Carolina player the least number of games in the SB conference\n",
      "2a-5 appears correct\n"
     ]
    }
   ],
   "source": [
    "# You cannot and should not update this cell\n",
    "confs = ['A10', 'B10', 'B12', 'ACC', 'SB']\n",
    "for index, conf_name in enumerate(confs):\n",
    "    q2a = f2a(conf_name)\n",
    "    print(f'{q2a} player the least number of games in the {conf_name} conference')\n",
    "    check(f'2a-{index+1}', q2a, points=20/len(confs))"
   ]
  },
  {
   "cell_type": "markdown",
   "metadata": {
    "editable": false,
    "slideshow": {
     "slide_type": "slide"
    }
   },
   "source": [
    "**2b.** Write a function identical to *f2a* except that it returns all the teams that played the least number of games in the conference along with the number of games they played\n",
    "\n",
    "**INPUT:** A conference short name\n",
    "**OUTPUT:** A Python list of the team name(s) that played the least number of games in the conference along with the number of games they played."
   ]
  },
  {
   "cell_type": "code",
   "execution_count": 16,
   "metadata": {
    "execution": {},
    "slideshow": {
     "slide_type": "slide"
    }
   },
   "outputs": [
    {
     "name": "stdout",
     "output_type": "stream",
     "text": [
      "Louisville played 20 games in the ACC conference\n",
      "Boston College played 20 games in the ACC conference\n"
     ]
    }
   ],
   "source": [
    "def f2b(conf_name):\n",
    "    # your code here\n",
    "    sql = '''\n",
    "    SELECT Teams.name, Teams.games_played\n",
    "    FROM Teams, Conferences\n",
    "    WHERE Teams.games_played = (\n",
    "    SELECT MIN(Teams.games_played)\n",
    "    FROM Teams, Conferences\n",
    "    WHERE Conferences.short_name = '{conf_name}'\n",
    "    AND Conferences.conference_id = Teams.conference_id)\n",
    "    AND Conferences.short_name = '{conf_name}' AND Teams.conference_id = Conferences.conference_id\n",
    "    ORDER BY Teams.name DESC\n",
    "    '''.format(conf_name = conf_name)\n",
    "    \n",
    "    results = cursor.execute(sql).fetchall()\n",
    "    return results\n",
    "    \n",
    "conf_name = 'ACC'\n",
    "week_number = 1\n",
    "q2b = f2b(conf_name)\n",
    "for name, games in q2b:\n",
    "    print(f'{name} played {games} games in the {conf_name} conference')"
   ]
  },
  {
   "cell_type": "code",
   "execution_count": 17,
   "metadata": {
    "editable": false,
    "execution": {},
    "scrolled": false,
    "slideshow": {
     "slide_type": "slide"
    }
   },
   "outputs": [
    {
     "name": "stdout",
     "output_type": "stream",
     "text": [
      "Fordham played 14 games in the A10 conference\n",
      "\n",
      "2b-1 appears correct\n",
      "Northwestern played 23 games in the B10 conference\n",
      "\n",
      "2b-2 appears correct\n",
      "Iowa St. played 24 games in the B12 conference\n",
      "Baylor played 24 games in the B12 conference\n",
      "\n",
      "2b-3 appears correct\n",
      "Louisville played 20 games in the ACC conference\n",
      "Boston College played 20 games in the ACC conference\n",
      "\n",
      "2b-4 appears correct\n",
      "Coastal Carolina played 19 games in the SB conference\n",
      "\n",
      "2b-5 appears correct\n"
     ]
    }
   ],
   "source": [
    "# You cannot and should not update this cell\n",
    "confs = ['A10', 'B10', 'B12', 'ACC', 'SB']\n",
    "for index, conf_name in enumerate(confs):\n",
    "    q2b = f2b(conf_name)\n",
    "    for name, games in q2b:\n",
    "        print(f'{name} played {games} games in the {conf_name} conference')\n",
    "    print()\n",
    "    check(f'2b-{index+1}', q2a, points=25/len(confs))"
   ]
  },
  {
   "cell_type": "markdown",
   "metadata": {
    "editable": false,
    "slideshow": {
     "slide_type": "slide"
    }
   },
   "source": [
    "# Done!\n",
    "\n",
    "Now get your report, save, and submit your notebook. I recommend you restart the kernel, and run all, just to be sure things are going to work correctly when I run it."
   ]
  },
  {
   "cell_type": "code",
   "execution_count": 18,
   "metadata": {
    "deletable": false,
    "editable": false,
    "execution": {},
    "slideshow": {
     "slide_type": "slide"
    }
   },
   "outputs": [
    {
     "name": "stdout",
     "output_type": "stream",
     "text": [
      "  Collaborators: ['sarsimha']\n",
      "Report for mkrishn\n",
      "  17 of 17 appear correct, 100 of 100 points\n"
     ]
    }
   ],
   "source": [
    "# You cannot and should not update this cell\n",
    "# This cell will produce a summary report of your assignment\n",
    "assert Author != 'youronyen'\n",
    "assert Collaborators != ['list', 'their', 'onyens', 'here']\n",
    "report(Author, Collaborators)"
   ]
  },
  {
   "cell_type": "markdown",
   "metadata": {
    "editable": false,
    "slideshow": {
     "slide_type": "slide"
    }
   },
   "source": [
    "## Done!\n",
    "<img src=\"https://comp421.cs.unc.edu/static/images/restartAndClearOutput.png\" width=\"300\" style=\"float: right\" />\n",
    "\n",
    "Now go back, restart the kernel (menu <font color=\"green\">Kernel</font>-><font color=\"green\">Restart and Clear</font>), and then Shift-Enter your way through the notebook to run all the cells again so you an be sure all your code will work as you expect during grading."
   ]
  },
  {
   "cell_type": "markdown",
   "metadata": {
    "editable": false,
    "slideshow": {
     "slide_type": "slide"
    }
   },
   "source": [
    "## Saving your work\n",
    "<img src=\"https://comp421.cs.unc.edu/static/images/saveAndCheckpoint.png\" width=\"300\" style=\"float: right\" />\n",
    "\n",
    "Now save your work by going to (menu <font color='green'>File</font>-><font color='green'>Save and Checkpoint</font>)"
   ]
  },
  {
   "cell_type": "markdown",
   "metadata": {
    "editable": false,
    "slideshow": {
     "slide_type": "slide"
    }
   },
   "source": [
    "## Submit your notebook\n",
    "\n",
    "After saving, restarting the kernel, and verifying your report,\n",
    "you can submit your notebook.\n",
    "Go to https://comp421.cs.unc.edu/notebook\n",
    "\n",
    "\n",
    "Note that if you actually saved your work you should not see the leaving site message below.\n",
    "If you do see the `Leave Site` warning, cancel and save your work again.\n",
    "<br />\n",
    "<img src=\"https://comp421.cs.unc.edu/static/images/leaveSite.png\" width=\"300\" style=\"float: left\" />"
   ]
  }
 ],
 "metadata": {
  "kernelspec": {
   "display_name": "Python 3 (ipykernel)",
   "language": "python",
   "name": "python3"
  },
  "language_info": {
   "codemirror_mode": {
    "name": "ipython",
    "version": 3
   },
   "file_extension": ".py",
   "mimetype": "text/x-python",
   "name": "python",
   "nbconvert_exporter": "python",
   "pygments_lexer": "ipython3",
   "version": "3.9.13"
  },
  "rise": {
   "enable_chalkboard": true,
   "scroll": true,
   "theme": "comp116"
  }
 },
 "nbformat": 4,
 "nbformat_minor": 1
}
